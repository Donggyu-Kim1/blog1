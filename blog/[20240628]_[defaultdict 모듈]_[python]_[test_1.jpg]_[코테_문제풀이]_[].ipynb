{
  "cells": [
    {
      "cell_type": "markdown",
      "metadata": {},
      "source": [
        "## 코딩테스트 Lv.1 문제\n",
        "\n",
        "선물을 직접 전하기 힘들 때 카카오톡 선물하기 기능을 이용해 축하 선물을 보낼 수 있습니다. 당신의 친구들이 이번 달까지 선물을 주고받은 기록을 바탕으로 다음 달에 누가 선물을 많이 받을지 예측하려고 합니다.\n",
        "\n",
        "* 두 사람이 선물을 주고받은 기록이 있다면, 이번 달까지 두 사람 사이에 더 많은 선물을 준 사람이 다음 달에 선물을 하나 받습니다.\n",
        "    * 예를 들어 A가 B에게 선물을 5번 줬고, B가 A에게 선물을 3번 줬다면 다음 달엔 A가 B에게 선물을 하나 받습니다.\n",
        "* 두 사람이 선물을 주고받은 기록이 하나도 없거나 주고받은 수가 같다면, 선물 지수가 더 큰 사람이 선물 지수가 더 작은 사람에게 선물을 하나 받습니다.\n",
        "    * 선물 지수는 이번 달까지 자신이 친구들에게 준 선물의 수에서 받은 선물의 수를 뺀 값입니다.\n",
        "    * 예를 들어 A가 친구들에게 준 선물이 3개고 받은 선물이 10개라면 A의 선물 지수는 -7입니다. B가 친구들에게 준 선물이 3개고 받은 선물이 2개라면 B의 선물 지수는 1입니다. 만약 A와 B가 선물을 주고받은 적이 없거나 정확히 같은 수로 선물을 주고받았다면, 다음 달엔 B가 A에게 선물을 하나 받습니다.\n",
        "    * 만약 두 사람의 선물 지수도 같다면 다음 달에 선물을 주고받지 않습니다.\n",
        "\n",
        "위에서 설명한 규칙대로 다음 달에 선물을 주고받을 때, 당신은 선물을 가장 많이 받을 친구가 받을 선물의 수를 알고 싶습니다.\n",
        "\n",
        "친구들의 이름을 담은 1차원 문자열 배열 friends 이번 달까지 친구들이 주고받은 선물 기록을 담은 1차원 문자열 배열 gifts가 매개변수로 주어집니다. 이때, 다음달에 가장 많은 선물을 받는 친구가 받을 선물의 수를 return 하도록 solution 함수를 완성해 주세요."
      ]
    },
    {
      "cell_type": "markdown",
      "metadata": {},
      "source": [
        "### 내 풀이\n",
        "\n",
        "소요시간: 5시간.."
      ]
    },
    {
      "cell_type": "code",
      "execution_count": 66,
      "metadata": {
        "id": "h2iYEMnqsyc0"
      },
      "outputs": [],
      "source": [
        "# friends 와 gifts 받을 함수 만들기\n",
        "\n",
        "# 조건1. friends를 2명씩 추출할 때, 경우의 수에서 각각 누가 더 많이 줬는지\n",
        "\n",
        "# 조건2. 경우의 수당 gift 개수가 같다면(0 포함) 선물지수로 판단\n",
        "\n",
        "# 조건3. 선물지수조차 같다면 pass\n",
        "\n",
        "def solution(friends, gifts):\n",
        "    gift = []\n",
        "    gifts_giver = []\n",
        "    gifts_taker = []\n",
        "    giver_gisu = {}\n",
        "    taker_gisu = {}\n",
        "    gifts_gisu = {}\n",
        "\n",
        "    # 조건 2.1 주고 받은 리스트 정리\n",
        "    for i in gifts:\n",
        "        gift.append(i.split(\" \"))\n",
        "        gifts_giver.append(i.split(\" \")[0])\n",
        "        gifts_taker.append(i.split(\" \")[1]) # 같은 인덱스에 있는 사람들끼리 주고 받음\n",
        "    # 애러발생(1): i에 문자열이 담기기 때문에 gifts[i]가 아닌 그냥 i\n",
        "\n",
        "    # 조건 2.2 선물 준 개수 세기\n",
        "    for i in friends:\n",
        "        giver_gisu[i] = gifts_giver.count(i)    # key 값 별 준 선물 수\n",
        "\n",
        "    # 조건 2.3 선물 받은 개수 세기.\n",
        "    for i in friends:\n",
        "        taker_gisu[i] = gifts_taker.count(i)    # key 값 별 받은 선물 수\n",
        "    # 애러발생(2): 'set'은 인덱싱 불가, 대신 friends 리스트로 key 값을 불러오자.\n",
        "\n",
        "    # 조건 2.4 선물 지수 계산, giver의 value 값은 더하고 taker의 value 값은 빼는 식으로 딕셔너리 합치기.\n",
        "    for key, value in giver_gisu.items():\n",
        "        if key in gifts_gisu:\n",
        "            gifts_gisu[key] += value\n",
        "        else:\n",
        "            gifts_gisu[key] = value\n",
        "\n",
        "    for key, value in taker_gisu.items():\n",
        "        if key in gifts_gisu:\n",
        "            gifts_gisu[key] -= value\n",
        "        else:\n",
        "            gifts_gisu[key] = -value\n",
        "    # 에러발생(3): iterable 타입이 와야할 자리에 int 타입이 있기 때문에 발생하는 에러\n",
        "    # 에러발생(3): gifts[key]에서 [key]를 빼먹음\n",
        "\n",
        "    # 조건 2.5 사람별 선물 지수 계산 완료. 이제 주고 받은 수의 개수가 동일하다면 지수로 비교\n",
        "\n",
        "    # friends 딕셔너리(최종 점수판), value값은 0으로 시작\n",
        "    friends_dic = {}\n",
        "    for i in friends:\n",
        "        friends_dic[i] = 0\n",
        "\n",
        "    # 조건 1. 주고 받은 기록이 있다면 더 많은 선물을 준 사람이 선물을 하나 받음\n",
        "    # 조건 1. gift 리스트에서 i번째와 i+1번째(i는 짝수 값) 묶음 개수와 i+1번째 문자와 i번째 문자의 묶음의 개수 비교\n",
        "    # 조건 1 미충족 시 조건 2로 넘어감\n",
        "    # 조건 3. value 값에 + 1씩 함\n",
        "\n",
        "    # friends 경우의 수 리스트(중복 없이)\n",
        "    set_friends = []\n",
        "    for i in friends:\n",
        "        for j in friends:\n",
        "            if i != j:\n",
        "                set_friends.append([i,j])\n",
        "\n",
        "    for i in set_friends:\n",
        "        if gift.count([i[0], i[1]]) > gift.count([i[1], i[0]]):\n",
        "            friends_dic[i[0]] += 1\n",
        "        elif gift.count([i[0], i[1]]) == gift.count([i[1], i[0]]):\n",
        "            if gifts_gisu[i[0]] > gifts_gisu[i[1]]:\n",
        "                friends_dic[i[0]] += 1\n",
        "            else:\n",
        "                pass\n",
        "        else:\n",
        "            pass\n",
        "\n",
        "    # 애러발생(4): 리스트의 인덱스를 정수형이 아닌 문자열으로 사용했을 때 만나는 에러\n",
        "    # 애러발생(4): 똑같이 i 자체가 문자열인데 gift[i] 이런 식으로 작성했음(오답이유)\n",
        "    # 애러발생(5): 값이 2여야 하는 데 3임\n",
        "    # 애러발생(5): 이는 gift를 순회하면서 중복 값임에도 1씩 더 더해져서 생긴 문제\n",
        "    # 애러발생(6): 일부 틀린 경우 발생\n",
        "    # 애러발생(6): 모든 경우의 수를 중복 없이 한번씩 순회해야 함, set_gift의 오류\n",
        "    # 애러발생(6): friends의 리스트 값을 모든 경우의 수로 묶어야 함\n",
        "    # 애러발생(7): 또한, 반대 상황을 생각할 필요 없음, if 조건에 해당하면 + 1, 반대인 경우는 반복문 돌면서 알아서 찾아줌.\n",
        "\n",
        "    # 최종 return 값에 friends_dic의 value 값 중 최대값 찾기\n",
        "    return max(friends_dic.values())"
      ]
    },
    {
      "cell_type": "markdown",
      "metadata": {},
      "source": [
        "### 애러 정리\n",
        "\n",
        "1. for문에서 i에 문자열이 담기기 때문에 gifts[i]가 아닌 그냥 i\n",
        "2. 'set'은 인덱싱 불가, 대신 friends 리스트로 인덱싱이 가능한 자료형을 변경\n",
        "3. gifts[key]에서 [key]를 빼먹음, 딕셔너리에 값 추가하려면 dict_name[key] = value\n",
        "4. 마찬가지로 문자열 순회 시 i 는 문자 그 자체를 받게 됨\n",
        "5. 순회 경우의 수를 잘못 생각함\n",
        "    - gift만 순회하는 경우, 주고받지 않은 요소를 확인하지 못함\n",
        "    - 그러니 점수 계산 오류 발생\n",
        "    - 중첩 for 문에 중복 값 제거하는 조건문 != 으로 새로운 리스트 생성\n",
        "6. list[][]에서 모든 경우의 수를 순회하게 되니\n",
        "7. gift.count([i[0], i[1]]) > gift.count([i[1], i[0]]): 의 반대 경우를 생각할 필요 없음\n",
        "    - 반대 경우도 세는 경우 중복으로 점수 추가\n",
        "\n",
        "다음은 깔끔하게 정리한 코드"
      ]
    },
    {
      "cell_type": "code",
      "execution_count": 65,
      "metadata": {
        "id": "iJs0V2B4QdK-"
      },
      "outputs": [],
      "source": [
        "# 깔끔하게 다시 쓰기\n",
        "\n",
        "# friends 와 gifts 받을 함수 만들기\n",
        "\n",
        "# 조건1. friends를 2명씩 추출할 때, 경우의 수에서 각각 누가 더 많이 줬는지\n",
        "\n",
        "# 조건2. 경우의 수당 gift 개수가 같다면(0 포함) 선물지수로 판단\n",
        "\n",
        "# 조건3. 선물지수조차 같다면 pass\n",
        "\n",
        "def solution(friends, gifts):\n",
        "    gift = []\n",
        "    gifts_giver = []\n",
        "    gifts_taker = []\n",
        "    giver_gisu = {}\n",
        "    taker_gisu = {}\n",
        "    gifts_gisu = {}\n",
        "\n",
        "    # 조건 2.1 주고 받은 리스트 정리\n",
        "    for i in gifts:\n",
        "        gift.append(i.split(\" \"))\n",
        "        gifts_giver.append(i.split(\" \")[0])\n",
        "        gifts_taker.append(i.split(\" \")[1])\n",
        "\n",
        "    # 조건 2.2 선물 주고 받은 개수 각각 딕셔너리에 입력\n",
        "    for i in friends:\n",
        "        giver_gisu[i] = gifts_giver.count(i)    # key 값 당 준 선물 수\n",
        "\n",
        "    for i in friends:\n",
        "        taker_gisu[i] = gifts_taker.count(i)    # key 값 당 받은 선물 수\n",
        "\n",
        "    # 조건 2.4 선물 지수 계산\n",
        "    for key, value in giver_gisu.items():\n",
        "        if key in gifts_gisu:\n",
        "            gifts_gisu[key] += value\n",
        "        else:\n",
        "            gifts_gisu[key] = value\n",
        "\n",
        "    for key, value in taker_gisu.items():\n",
        "        if key in gifts_gisu:\n",
        "            gifts_gisu[key] -= value\n",
        "        else:\n",
        "            gifts_gisu[key] = -value\n",
        "\n",
        "    # friends 딕셔너리, value값은 다음 달에 선물 받을 개수로 0에서 시작\n",
        "    friends_dic = {}\n",
        "    for i in friends:\n",
        "        friends_dic[i] = 0\n",
        "\n",
        "    # friends 경우의 수 리스트(중복 없이)\n",
        "    set_friends = []\n",
        "    for i in friends:\n",
        "        for j in friends:\n",
        "            if i != j:\n",
        "                set_friends.append([i,j])\n",
        "\n",
        "    # 조건1, 조건2 join\n",
        "    for i in set_friends:\n",
        "        if gift.count([i[0], i[1]]) > gift.count([i[1], i[0]]):\n",
        "            friends_dic[i[0]] += 1\n",
        "        elif gift.count([i[0], i[1]]) == gift.count([i[1], i[0]]):\n",
        "            if gifts_gisu[i[0]] > gifts_gisu[i[1]]:\n",
        "                friends_dic[i[0]] += 1\n",
        "            else:\n",
        "                pass\n",
        "        else:\n",
        "            pass\n",
        "\n",
        "    return max(friends_dic.values())"
      ]
    },
    {
      "cell_type": "markdown",
      "metadata": {},
      "source": [
        "### 후기\n",
        "\n",
        "문제를 푼 결과, 코드가 길어서 가독성이 떨어지고 많은 리스트와 딕셔너리를 생성해야 했다.\n",
        "\n",
        "어떤 리스트나 딕셔너리가 진짜 필요한 지 설계해보고 코드를 작성하는 것이 바람직할 것 같다.\n",
        "\n",
        "순회하는 중첩 if 문 사용 시, 어떤 조건이 연속으로 필요한 지 고민하고 그 결과 값을 예측해보고 코드를 짜야겠다.\n",
        "\n",
        "정답이긴 했지만 상당히 오래 걸렸고 무겁게 돌아갔다. \n",
        "\n",
        "시간을 줄이기 위해서 딕셔너리의 메서드들을 공부해야겠다."
      ]
    },
    {
      "cell_type": "code",
      "execution_count": null,
      "metadata": {
        "id": "ewcaPp1oR8Fa"
      },
      "outputs": [],
      "source": [
        "# AI가 푼 코드\n",
        "\n",
        "# 1. 각 친구별로 준 선물과 받은 선물의 수를 계산합니다.\n",
        "# 2. 각 친구의 선물 지수를 계산합니다.\n",
        "# 3. 모든 친구 쌍에 대해 다음 달에 누가 선물을 받을지 결정합니다.\n",
        "# 4. 각 친구가 받을 선물의 수를 계산하고, 최대값을 찾습니다.\n",
        "\n",
        "# defaultdict 불러오기\n",
        "# 이는 딕셔너리의 키가 존재하지 않을 때 자동으로 기본값을 생성해주는 딕셔너리\n",
        "from collections import defaultdict\n",
        "\n",
        "def solution(friends, gifts):\n",
        "    n = len(friends)\n",
        "    # 각 친구 쌍 간의 선물 교환 횟수를 저장할 '중첩' 딕셔너리\n",
        "    gift_count = defaultdict(lambda: defaultdict(int))\n",
        "    # 각 친구의 선물 지수를 저장할 딕셔너리\n",
        "    gift_index = defaultdict(int)\n",
        "    # 다음 달에 각 친구가 받을 선물의 수를 저장할 딕셔너리\n",
        "    next_month_gifts = defaultdict(int)\n",
        "\n",
        "    # 선물 주고받은 기록 및 선물 지수 계산\n",
        "    for gift in gifts:\n",
        "        giver, receiver = gift.split()  # giver, receiver로 한번에 스플릿해서 리스트 생성\n",
        "        gift_count[giver][receiver] += 1    # 교환횟수 계산\n",
        "        gift_index[giver] += 1  # giver의 경우 선물 지수 value 값에 + 1\n",
        "        gift_index[receiver] -= 1   # receiver의 경우 선물 지수 value 값에 - 1\n",
        "\n",
        "    # 다음 달 선물 계산\n",
        "    for i in range(n):  # 친구 수 길이만큼 반복\n",
        "        for j in range(i+1, n): # 1부터 n-1까지 반복\n",
        "            friend1, friend2 = friends[i], friends[j] # 각각 리스트에 담음\n",
        "            # 가능한 모든 쌍에 반복\n",
        "            # 두 친구 간의 선물 교환 횟수를 비교하여\n",
        "            # 더 많이 준 쪽이 다음 달에 선물 + 1\n",
        "            if gift_count[friend1][friend2] > gift_count[friend2][friend1]:\n",
        "                next_month_gifts[friend1] += 1\n",
        "            elif gift_count[friend1][friend2] < gift_count[friend2][friend1]:\n",
        "                next_month_gifts[friend2] += 1\n",
        "            # 선물 교환 횟수가 같거나 없는 경우\n",
        "            # 선물 지수를 비교하여 더 높은 쪽이 선물을 받습니다.\n",
        "            else:\n",
        "                if gift_index[friend1] > gift_index[friend2]:\n",
        "                    next_month_gifts[friend1] += 1\n",
        "                elif gift_index[friend1] < gift_index[friend2]:\n",
        "                    next_month_gifts[friend2] += 1\n",
        "\n",
        "    # 가장 많은 선물을 받는 친구의 선물 수 반환\n",
        "    # 만약 next_month_gifts가 비어있다면(아무도 선물을 받지 않는 경우) 0을 반환\n",
        "    return max(next_month_gifts.values()) if next_month_gifts else ()"
      ]
    },
    {
      "cell_type": "markdown",
      "metadata": {},
      "source": [
        "## defaultdict\n",
        "\n",
        "이번 문제를 풀면서 딕셔너리를 많이 만들어야 했고 하나하나 만들다 보니 코드도 길어지고 가독성도 떨어졌다.\n",
        "\n",
        "ChatGPT는 이 문제를 어떻게 풀 지 궁금해서 문제를 넣어본 결과, **collections 모듈의 defaultdict**을 사용하여 간단하게 풀었다.\n",
        "\n",
        "따라서 **많은 딕셔너리가 필요할 때**, 이 모듈을 사용하면 좋을 것 같다."
      ]
    },
    {
      "cell_type": "markdown",
      "metadata": {},
      "source": [
        "**1. defaultdict 모듈이란?**\n",
        "\n",
        "defaultdict는 파이썬의 collections 모듈에서 제공하는 특별한 종류의 딕셔너리로\n",
        "\n",
        "일반 딕셔너리와 달리, defaultdict는 **존재하지 않는 키에 접근할 때 기본값을 자동으로 제공**한다.\n",
        "\n",
        "이를 통해 **키가 없을 때 발생하는 KeyError를 방지**하고, 코드를 더 **간결하고 가독성 있게** 만들 수 있다."
      ]
    },
    {
      "cell_type": "markdown",
      "metadata": {},
      "source": [
        "**2. 기본 사용법**"
      ]
    },
    {
      "cell_type": "code",
      "execution_count": null,
      "metadata": {},
      "outputs": [],
      "source": [
        "from collections import defaultdict"
      ]
    },
    {
      "cell_type": "markdown",
      "metadata": {},
      "source": [
        "**3. 사용 예시**\n",
        "\n",
        "기본값으로 **0을 반환**하는 defaultdict를 생성하려면 다음과 같이 할 수 있다."
      ]
    },
    {
      "cell_type": "code",
      "execution_count": null,
      "metadata": {},
      "outputs": [],
      "source": [
        "from collections import defaultdict\n",
        "\n",
        "# 기본값으로 0을 반환하는 defaultdict\n",
        "d = defaultdict(int)\n",
        "\n",
        "print(d['a'])  # 출력: 0"
      ]
    },
    {
      "cell_type": "markdown",
      "metadata": {},
      "source": [
        "이 예제의 경우, 위 문제를 풀기 위해 정말 필요했던 작업이다.\n",
        "\n",
        "리스트에서 {**단어: 단어 빈도**} 딕셔너리로 변환하는 예제"
      ]
    },
    {
      "cell_type": "code",
      "execution_count": null,
      "metadata": {},
      "outputs": [],
      "source": [
        "from collections import defaultdict\n",
        "\n",
        "words = [\"apple\", \"banana\", \"apple\", \"orange\", \"banana\", \"apple\"]\n",
        "\n",
        "word_count = defaultdict(int)   # value가 0인 기본 딕셔너리 생성\n",
        "\n",
        "for word in words:\n",
        "    word_count[word] += 1   # words에 있는 문자를 키 값으로 받고 for문으로 숫자 세기\n",
        "\n",
        "print(word_count)  # 출력: defaultdict(<class 'int'>, {'apple': 3, 'banana': 2, 'orange': 1})"
      ]
    },
    {
      "cell_type": "markdown",
      "metadata": {},
      "source": [
        "이것만이 아니라 value 값으로 **리스트**를 받을 수 있다."
      ]
    },
    {
      "cell_type": "code",
      "execution_count": null,
      "metadata": {},
      "outputs": [],
      "source": [
        "from collections import defaultdict\n",
        "\n",
        "d = defaultdict(list)   # 아까는 int로 숫자를 받았지만 모듈에 리스트를 입력하여 빈 list를 받고 있다.\n",
        "\n",
        "d['a'].append(1)\n",
        "d['a'].append(2)\n",
        "d['b'].append(3)\n",
        "\n",
        "print(d)  # 출력: defaultdict(<class 'list'>, {'a': [1, 2], 'b': [3]})"
      ]
    },
    {
      "cell_type": "markdown",
      "metadata": {},
      "source": [
        "### defaultdict 장점\n",
        "\n",
        "1. **코드 간결성**: KeyError를 처리하는 코드를 작성할 필요가 없어 코드가 더 간결해진다.\n",
        "2. **가독성**: 기본값을 설정하는 로직이 명확하게 표현되어 코드의 가독성이 향상된다.\n",
        "3. **성능**: 기본값을 생성하는 로직이 한 번만 정의되므로, 반복적인 코드 작성으로 인한 성능 저하를 방지할 수 있다.\n",
        "4. defaultdict는 특히 그룹화, 빈도 계산, 그래프 구조 등의 작업에서 유용하게 사용된다."
      ]
    }
  ],
  "metadata": {
    "colab": {
      "provenance": []
    },
    "kernelspec": {
      "display_name": "Python 3",
      "name": "python3"
    },
    "language_info": {
      "name": "python"
    }
  },
  "nbformat": 4,
  "nbformat_minor": 0
}
