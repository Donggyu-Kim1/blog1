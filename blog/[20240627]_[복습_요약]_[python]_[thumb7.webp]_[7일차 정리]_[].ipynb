{
  "nbformat": 4,
  "nbformat_minor": 0,
  "metadata": {
    "colab": {
      "provenance": [],
      "toc_visible": true
    },
    "kernelspec": {
      "name": "python3",
      "display_name": "Python 3"
    },
    "language_info": {
      "name": "python"
    }
  },
  "cells": [
    {
      "cell_type": "markdown",
      "source": [
        "# 파이썬 요약 강의\n",
        "\n",
        "AI 시대에 백엔드 공부\n",
        "\n",
        "* Python, Pandas, Numpy, SQL 가 얼마나 의미 있을까?\n",
        "    * 말그대로 기본만 알면 되는 세상\n",
        "    * 문학적 소질이 있는 분들\n",
        "    * 분야의 지식이 있는 분들\n",
        "    * 커뮤니케이션을 잘하는 분들이 경쟁력 있음\n",
        "    * 자연어로 검증까지 되는 세상이기 때문\n",
        "    * 요구사항만 상세하게 프롬프트로 작성할 수 있다면 거의 완벽에 가까운 코드가 나오는 시대 (Claude sonnet 출시 이후, Claude project 출시 이후)\n",
        "    * 이 코드를 짤 수 있느냐가 아니라 서비스를 만드는 프로세스를 익히는 것이 중요\n",
        "\n",
        "* 백엔드 개발자로서 어떤 역량을 갖춰야 할까요? 또 어떤 것들을 배워야 할까요?\n",
        "    * 프롬프트, 설계, 갖춰야 하는 문서양식과 방향성, 선임의 경험을 체화할 수 있는 여러 프로젝트를 해보는 것\n",
        "    * 이제는 노하우, 경험 등도 사실 GPT, Sonnet 코드 안에 녹아 있습니다.\n",
        "\n",
        "* 10년차 이상 개발자들은 뽑지 않는다. 공고를 냄\n",
        "    * 이제 주니어급 조금 연차가 있는 시니어든 10년차든 개발 리드급에 퍼포먼스가 나옵니다.\n",
        "    * 오히려 AI를 활용해서 빠르게 프러덕트를 생산하는 것은 AI를 많이 사용해본 사람이 유리\n",
        "    * Sonnet이 나오고 나서 시니어 개발자들이 '앞으로 어떻게 해야할 지 모르겠다' 라는 글을 많이 올렸음.\n",
        "\n",
        "* 프롬프트 시스템을 구축할 때, 어떤 것을 중점적으로 구축해야 할까\n",
        "    * 회사에 들어가서 업무를 빨리하고 싶다면, 각 업무에 프롬프트 시스템을 구축하는 것을 권합니다.\n",
        "    * 이때 가장 중요한 것은 질문 -> 답변의 구조가 아니라 질문 -> 라이브러리를 포함한 답변 -> 구현 구조가 좋음\n",
        "    * 회사 내 디자인 시스템이나 프론트엔드 ,백엔드 코드를 믹싱에 넣으면 더욱 잘 나옴\n",
        "    * 영어로 학습한 모델이기 때문에 프롬프트는 영어로 작성하는 것이 성능이 더 좋음\n",
        "\n",
        "* 실제 플레이를 해봐야 함. 실제 해보는 것이 제일 중요.\n",
        "프러덕트를 많이 만들어 볼 필요가 있음\n"
      ],
      "metadata": {
        "id": "d-bviKrm_5Gw"
      }
    },
    {
      "cell_type": "markdown",
      "source": [
        "## 주석\n",
        "\n",
        "* 주석을 어떻게 작성?\n",
        "    * 인공지능이 학습할 수 있도록 작성\n",
        "    * 프롬프트 엔지니어링을 염두해두고 주석을 작성해야 합니다.\n",
        "    * 코드를 리뷰하는 사람들은 알고리즘이나 코드에 대한 베이스 지식이 충분하다고 가정합니다.\n",
        "    * 파이썬 주석은 그럼 어떤 주석을 작성?\n",
        "    * 아웃풋, 파라미터, 리턴 값, 이 소스코드에 대한 요약 등 Doc string을 작성합니다.\n",
        "    * **Doctring**은 함수나 클래스 내부에 아래와 같은 형식으로 작성됩니다.\n",
        "    ```\n",
        "    def fetch_smalltable_rows(table_handle: smalltable.Table) -> Mapping[bytes, tuple[str, ...]]:\n",
        "    \"\"\"Fetches rows from a Smalltable.\n",
        "\n",
        "    Retrieves rows pertaining to the given keys from the Table instance\n",
        "    represented by table_handle.  String keys will be UTF-8 encoded.\n",
        "\n",
        "    Args:\n",
        "        table_handle: An open smalltable.Table instance.\n",
        "        keys: A sequence of strings representing the key of each table\n",
        "        row to fetch.  String keys will be UTF-8 encoded.\n",
        "        require_all_keys: If True only rows with values set for all keys will be\n",
        "        returned.\n",
        "\n",
        "    Returns:\n",
        "        A dict mapping keys to the corresponding table row data\n",
        "        fetched. Each row is represented as a tuple of strings. For\n",
        "        example:\n",
        "\n",
        "        {b'Serak': ('Rigel VII', 'Preparer'),\n",
        "        b'Zim': ('Irk', 'Invader'),\n",
        "        b'Lrrr': ('Omicron Persei 8', 'Emperor')}\n",
        "\n",
        "        Returned keys are always bytes.  If a key from the keys argument is\n",
        "        missing from the dictionary, then that row was not found in the\n",
        "        table (and require_all_keys must have been False).\n",
        "\n",
        "    Raises:\n",
        "        IOError: An error occurred accessing the smalltable.\n",
        "    \"\"\"\n",
        "```"
      ],
      "metadata": {
        "id": "BO8liUroHY7k"
      }
    },
    {
      "cell_type": "code",
      "execution_count": null,
      "metadata": {
        "id": "uKzenN02_uyR"
      },
      "outputs": [],
      "source": [
        "# 타입 힌트 / 견고하게 만들 때 사용\n",
        "def subtract(var_a: int, var_b: int) -> int:\n",
        "    return var_a - var_b"
      ]
    },
    {
      "cell_type": "code",
      "source": [
        "x = 10\n",
        "s = f'''x = {x}'''\n",
        "print(s)"
      ],
      "metadata": {
        "colab": {
          "base_uri": "https://localhost:8080/"
        },
        "id": "ofBTp1YsKmRx",
        "outputId": "f071510c-324a-48de-9bba-479227ba8036"
      },
      "execution_count": null,
      "outputs": [
        {
          "output_type": "stream",
          "name": "stdout",
          "text": [
            "x = 10\n"
          ]
        }
      ]
    },
    {
      "cell_type": "code",
      "source": [
        "s = r'hello\\nworld'\n",
        "print(s)    # r은 raw의 약자, 주로 정규표현식에서 사용"
      ],
      "metadata": {
        "colab": {
          "base_uri": "https://localhost:8080/"
        },
        "id": "Tp4fyKJXK6vj",
        "outputId": "1ec0b55c-3e1d-4520-9d0a-1fa016d99b89"
      },
      "execution_count": null,
      "outputs": [
        {
          "output_type": "stream",
          "name": "stdout",
          "text": [
            "hello\\nworld\n"
          ]
        }
      ]
    },
    {
      "cell_type": "code",
      "source": [
        "s = r'''hello world\n",
        "\\n\n",
        "hello world'''\n",
        "print(s)    # r은 raw에 약자, 주로 정규표현식에서 많이 사용"
      ],
      "metadata": {
        "colab": {
          "base_uri": "https://localhost:8080/"
        },
        "id": "BBWDCWHOK_DN",
        "outputId": "353829d0-1639-4f05-83f2-baa4dd2fbe87"
      },
      "execution_count": null,
      "outputs": [
        {
          "output_type": "stream",
          "name": "stdout",
          "text": [
            "hello world \n",
            "\\n \n",
            "hello world\n"
          ]
        }
      ]
    },
    {
      "cell_type": "markdown",
      "source": [
        "## 변수"
      ],
      "metadata": {
        "id": "VT1zNfLMN04O"
      }
    },
    {
      "cell_type": "code",
      "source": [
        "x = 10\n",
        "y = x\n",
        "z = y\n",
        "\n",
        "x = 20\n",
        "\n",
        "print(x, y, z)"
      ],
      "metadata": {
        "colab": {
          "base_uri": "https://localhost:8080/"
        },
        "id": "xCUtlCPhNuAP",
        "outputId": "67ec2f55-aba2-4900-b7c3-db03148f8968"
      },
      "execution_count": null,
      "outputs": [
        {
          "output_type": "stream",
          "name": "stdout",
          "text": [
            "20 10 10\n"
          ]
        }
      ]
    },
    {
      "cell_type": "code",
      "source": [
        "hojun = print   # 함수도 변수로 가능\n",
        "\n",
        "hojun('hello')"
      ],
      "metadata": {
        "colab": {
          "base_uri": "https://localhost:8080/"
        },
        "id": "l59w-9YaN7EY",
        "outputId": "2fb155dd-a614-4877-cb88-42b2ff03d0b3"
      },
      "execution_count": null,
      "outputs": [
        {
          "output_type": "stream",
          "name": "stdout",
          "text": [
            "hello\n"
          ]
        }
      ]
    },
    {
      "cell_type": "code",
      "source": [
        "x = 10\n",
        "def f(x):\n",
        "    x = 100\n",
        "\n",
        "f(x)\n",
        "x   # 지역변수, 전역변수"
      ],
      "metadata": {
        "colab": {
          "base_uri": "https://localhost:8080/"
        },
        "id": "LA9YJZ7ZOdEr",
        "outputId": "1ac9a751-8e61-46dd-a531-203fc7ef4f54"
      },
      "execution_count": null,
      "outputs": [
        {
          "output_type": "execute_result",
          "data": {
            "text/plain": [
              "10"
            ]
          },
          "metadata": {},
          "execution_count": 9
        }
      ]
    },
    {
      "cell_type": "code",
      "source": [
        "# 밖에 있는 값을 불러올 순 있지만 변경은 불가능\n",
        "x = 10\n",
        "def f():\n",
        "    y = x + x\n",
        "    return y\n",
        "f()"
      ],
      "metadata": {
        "colab": {
          "base_uri": "https://localhost:8080/"
        },
        "id": "MCCY6jSwOs2R",
        "outputId": "a4ef81c0-9f53-4681-a752-68069cf04a0e"
      },
      "execution_count": null,
      "outputs": [
        {
          "output_type": "execute_result",
          "data": {
            "text/plain": [
              "20"
            ]
          },
          "metadata": {},
          "execution_count": 10
        }
      ]
    },
    {
      "cell_type": "code",
      "source": [
        "l = [10, 20, 30]\n",
        "def f(l):\n",
        "    l.append(40)\n",
        "\n",
        "# 이거는 append 메서드를 이용하여 더했을 뿐이기 때문에 더해짐\n",
        "\n",
        "f(l)\n",
        "l"
      ],
      "metadata": {
        "colab": {
          "base_uri": "https://localhost:8080/"
        },
        "id": "70pYbs7uPVnf",
        "outputId": "2ba4cad5-5a01-4a5f-a4a5-eec5ada1bf8b"
      },
      "execution_count": null,
      "outputs": [
        {
          "output_type": "execute_result",
          "data": {
            "text/plain": [
              "[10, 20, 30, 40]"
            ]
          },
          "metadata": {},
          "execution_count": 13
        }
      ]
    },
    {
      "cell_type": "markdown",
      "source": [
        "### 정수와 사칙연산"
      ],
      "metadata": {
        "id": "HWn372FlQWu6"
      }
    },
    {
      "cell_type": "code",
      "source": [
        "x = - 10\n",
        "y = 3\n",
        "\n",
        "print(x + y)\n",
        "print(x - y)\n",
        "print(x * y)\n",
        "print(x / y)\n",
        "print(x // y)\n",
        "print(x ** y)\n",
        "print(x % y)"
      ],
      "metadata": {
        "colab": {
          "base_uri": "https://localhost:8080/"
        },
        "id": "F6WExRyLPgCK",
        "outputId": "d0c20eef-7d1b-42cc-8ff2-df68d94b0ad5"
      },
      "execution_count": null,
      "outputs": [
        {
          "output_type": "stream",
          "name": "stdout",
          "text": [
            "-7\n",
            "-13\n",
            "-30\n",
            "-3.3333333333333335\n",
            "-4\n",
            "-1000\n",
            "2\n"
          ]
        }
      ]
    },
    {
      "cell_type": "markdown",
      "source": [
        "### 실수(float)"
      ],
      "metadata": {
        "id": "aNGNaUUoRNNR"
      }
    },
    {
      "cell_type": "code",
      "source": [
        "# 부동소수점 문\n",
        "s = 0\n",
        "for i in range(10):\n",
        "    s += 0.1\n",
        "\n",
        "print(s)"
      ],
      "metadata": {
        "colab": {
          "base_uri": "https://localhost:8080/"
        },
        "id": "ouJH5_SKQ1Ii",
        "outputId": "c16b3437-6f3e-405a-a1b9-420fde18f967"
      },
      "execution_count": null,
      "outputs": [
        {
          "output_type": "stream",
          "name": "stdout",
          "text": [
            "0.9999999999999999\n"
          ]
        }
      ]
    },
    {
      "cell_type": "code",
      "source": [
        "float(\"inf\")\n",
        "float(\"-inf\")"
      ],
      "metadata": {
        "colab": {
          "base_uri": "https://localhost:8080/"
        },
        "id": "Z_Mpmfa9RkYy",
        "outputId": "c57dc366-eda7-4ea0-f067-a91155af093b"
      },
      "execution_count": null,
      "outputs": [
        {
          "output_type": "execute_result",
          "data": {
            "text/plain": [
              "-inf"
            ]
          },
          "metadata": {},
          "execution_count": 19
        }
      ]
    },
    {
      "cell_type": "markdown",
      "source": [
        "### 문자열(str)\n",
        "\n",
        "* 인덱싱, 슬라이싱,\n",
        "* 문자열은 백엔드 개발자에게 가장 중요한 데이터 구조, 클래스의 원리를 파악하는 것이 중요함.\n",
        "* 데이터 분석가에게 가장 중요한 데이터 구조는 정수와 실수\n",
        "    * 인공지능은 행렬의 연속이다.\n"
      ],
      "metadata": {
        "id": "BXSPtQ86SQJI"
      }
    },
    {
      "cell_type": "code",
      "source": [
        "x = \"hello\"\n",
        "y = 'hello'\n",
        "\n",
        "print(x + y)"
      ],
      "metadata": {
        "colab": {
          "base_uri": "https://localhost:8080/"
        },
        "id": "a6fSQ76sSCux",
        "outputId": "fb160d97-19c2-4d9e-a3b2-3af727d7e5f2"
      },
      "execution_count": null,
      "outputs": [
        {
          "output_type": "stream",
          "name": "stdout",
          "text": [
            "hellohello\n"
          ]
        }
      ]
    },
    {
      "cell_type": "code",
      "source": [
        "# 보통 URL 구조에서 넘어가게 됨\n",
        "URL = 'https://translate.google.co.kr/?hl=en&tab=rT1&sl=en&tl=ko&op=translate'\n",
        "\n",
        "URL1 = 'https://translate.google.co.kr/'\n",
        "URL2 = '?hl=en&tab=rT1&sl=en&tl=ko&op=translate'\n",
        "\n",
        "# 올바른 표기법. (URL1 URL2)\n",
        "URL = (\"https://translate.google.co.kr/\"\n",
        "    \"?hl=en&tab=rT1&sl=en&tl=ko&op=translate\")\n",
        "\n",
        "URL"
      ],
      "metadata": {
        "colab": {
          "base_uri": "https://localhost:8080/",
          "height": 36
        },
        "id": "hogKiJsBTZ1L",
        "outputId": "cae88cfe-2e45-4988-b09d-f25b4116b209"
      },
      "execution_count": null,
      "outputs": [
        {
          "output_type": "execute_result",
          "data": {
            "text/plain": [
              "'https://translate.google.co.kr/?hl=en&tab=rT1&sl=en&tl=ko&op=translate'"
            ],
            "application/vnd.google.colaboratory.intrinsic+json": {
              "type": "string"
            }
          },
          "metadata": {},
          "execution_count": 22
        }
      ]
    },
    {
      "cell_type": "code",
      "source": [
        "# z.fill()\n",
        "\n",
        "x = 'hello'\n",
        "x.zfill(8)"
      ],
      "metadata": {
        "colab": {
          "base_uri": "https://localhost:8080/",
          "height": 36
        },
        "id": "GrqXHCJEUm6D",
        "outputId": "aad577e7-5d5c-4aa0-9650-395d1043d207"
      },
      "execution_count": null,
      "outputs": [
        {
          "output_type": "execute_result",
          "data": {
            "text/plain": [
              "'000hello'"
            ],
            "application/vnd.google.colaboratory.intrinsic+json": {
              "type": "string"
            }
          },
          "metadata": {},
          "execution_count": 33
        }
      ]
    },
    {
      "cell_type": "code",
      "source": [
        "s = 'hello world'\n",
        "\n",
        "if s.find('z'): # 큰 문제가 발생!!!!? # 애러도 못잡아요.ㅜㅜ\n",
        "    print('hello')"
      ],
      "metadata": {
        "colab": {
          "base_uri": "https://localhost:8080/"
        },
        "id": "KQJ3eOjbVBgK",
        "outputId": "61b38c30-5975-449e-c040-73b7d2a0cc25"
      },
      "execution_count": null,
      "outputs": [
        {
          "output_type": "stream",
          "name": "stdout",
          "text": [
            "hello\n"
          ]
        }
      ]
    },
    {
      "cell_type": "code",
      "source": [
        "# count, strip\n",
        "s = '         hello world         '\n",
        "\n",
        "print(s.count('l'))\n",
        "print(s.strip(' '))"
      ],
      "metadata": {
        "colab": {
          "base_uri": "https://localhost:8080/"
        },
        "id": "JTJ4mGgWWc6V",
        "outputId": "1f21fc6c-541c-48e4-cc41-f5d63dd47d85"
      },
      "execution_count": null,
      "outputs": [
        {
          "output_type": "stream",
          "name": "stdout",
          "text": [
            "3\n",
            "hello world\n"
          ]
        }
      ]
    },
    {
      "cell_type": "code",
      "source": [
        "# 메서드 체이닝\n",
        "\n",
        "# 9 -> '01001' -> '  #  #'\n",
        "\n",
        "bin(9 | 30)[2: ].replace('1', \"#\").replace('0', \" \")"
      ],
      "metadata": {
        "colab": {
          "base_uri": "https://localhost:8080/",
          "height": 36
        },
        "id": "mPLzMmRPYTKH",
        "outputId": "6eafc6b7-4c53-48f8-f669-a5b3c8fc15b7"
      },
      "execution_count": null,
      "outputs": [
        {
          "output_type": "execute_result",
          "data": {
            "text/plain": [
              "'#####'"
            ],
            "application/vnd.google.colaboratory.intrinsic+json": {
              "type": "string"
            }
          },
          "metadata": {},
          "execution_count": 39
        }
      ]
    },
    {
      "cell_type": "code",
      "source": [
        "# split(), join()\n",
        "\n",
        "# isdigit(), 자주 사용\n",
        "s = \"hello2wor3ld4\" # s를 순회하면서 숫자를 다 더할때 사용\n",
        "\n",
        "total = 0\n",
        "for i in s:\n",
        "    if i.isdigit():\n",
        "        total += int(i)\n",
        "\n",
        "print(total)"
      ],
      "metadata": {
        "colab": {
          "base_uri": "https://localhost:8080/"
        },
        "id": "uWZlRvtJdzQD",
        "outputId": "f9777200-47a2-4022-e4dd-2aa304f1fbd0"
      },
      "execution_count": null,
      "outputs": [
        {
          "output_type": "stream",
          "name": "stdout",
          "text": [
            "9\n"
          ]
        }
      ]
    },
    {
      "cell_type": "markdown",
      "source": [
        "### 논리 자료형\n",
        "\n",
        "```py\n",
        "# and는 곱\n",
        "# or은 합\n",
        "x = True    # 1\n",
        "y = False   # 0\n",
        "\n",
        "x and y == False\n",
        "x or y == True\n",
        "```"
      ],
      "metadata": {
        "id": "Qa7LopZCfR5d"
      }
    },
    {
      "cell_type": "code",
      "source": [
        "result = []\n",
        "for i in range(20):\n",
        "    if i % 2 == 0 and i % 3 == 0:\n",
        "        result.append(i)\n",
        "\n",
        "print(result)"
      ],
      "metadata": {
        "colab": {
          "base_uri": "https://localhost:8080/"
        },
        "id": "iiykaKO0eRIP",
        "outputId": "6d88c578-d0c3-4f0d-bb6a-c648227f6edc"
      },
      "execution_count": null,
      "outputs": [
        {
          "output_type": "stream",
          "name": "stdout",
          "text": [
            "[0, 6, 12, 18]\n"
          ]
        }
      ]
    },
    {
      "cell_type": "markdown",
      "source": [
        "### 형변환\n",
        "\n",
        "| Built-in Function | 기능 |\n",
        "|-------------------|------|\n",
        "| int()             | 정수로 변환 |\n",
        "| str()             | 문자열로 변환 |\n",
        "| float()           | 실수로 변환 |\n",
        "| list()            | 리스트로 변환 |\n",
        "| tuple()           | 튜플로 변환 |\n",
        "| dict()            | 딕셔너리로 변환 |\n",
        "| set()             | 셋으로 변환 |"
      ],
      "metadata": {
        "id": "cLbYZ6RuhShS"
      }
    },
    {
      "cell_type": "markdown",
      "source": [
        "## 연산자"
      ],
      "metadata": {
        "id": "H-ClWeJWisTS"
      }
    },
    {
      "cell_type": "markdown",
      "source": [
        "### 할당연산자"
      ],
      "metadata": {
        "id": "B_BC9YrDiwTo"
      }
    },
    {
      "cell_type": "code",
      "source": [
        "x = 10"
      ],
      "metadata": {
        "id": "HITdnkZegGfb"
      },
      "execution_count": null,
      "outputs": []
    },
    {
      "cell_type": "code",
      "source": [
        "id(x)"
      ],
      "metadata": {
        "colab": {
          "base_uri": "https://localhost:8080/"
        },
        "id": "MSt1t8xgizZ8",
        "outputId": "6128cfe4-cbca-4599-f4cb-97c4c7a07b00"
      },
      "execution_count": null,
      "outputs": [
        {
          "output_type": "execute_result",
          "data": {
            "text/plain": [
              "132204017336848"
            ]
          },
          "metadata": {},
          "execution_count": 45
        }
      ]
    },
    {
      "cell_type": "code",
      "source": [
        "x += 10\n",
        "print(x)\n",
        "id(x)"
      ],
      "metadata": {
        "colab": {
          "base_uri": "https://localhost:8080/"
        },
        "id": "oKwEOFwLi0wQ",
        "outputId": "ab12ccdd-a87e-47f1-c97e-462749d8b415"
      },
      "execution_count": null,
      "outputs": [
        {
          "output_type": "stream",
          "name": "stdout",
          "text": [
            "30\n"
          ]
        },
        {
          "output_type": "execute_result",
          "data": {
            "text/plain": [
              "132204017337488"
            ]
          },
          "metadata": {},
          "execution_count": 47
        }
      ]
    },
    {
      "cell_type": "markdown",
      "source": [
        "### 식별연산자\n",
        "\n",
        "* 실무 빈도는 매우 낮으나 원리를 파악하기 위해서 간혹 사용하는 경우가 있음\n",
        "* is, is not"
      ],
      "metadata": {
        "id": "5ZSImeQnjEy6"
      }
    },
    {
      "cell_type": "code",
      "source": [
        "x = 10\n",
        "y = x\n",
        "\n",
        "x is y\n",
        "# 실체(id)가 같은지 비교하는 것,-5 ~ 256까지 같음"
      ],
      "metadata": {
        "colab": {
          "base_uri": "https://localhost:8080/"
        },
        "id": "B576IHGWi51C",
        "outputId": "d3a57090-8435-4efd-f87a-8ec23b974f53"
      },
      "execution_count": null,
      "outputs": [
        {
          "output_type": "execute_result",
          "data": {
            "text/plain": [
              "True"
            ]
          },
          "metadata": {},
          "execution_count": 49
        }
      ]
    },
    {
      "cell_type": "markdown",
      "source": [
        "### 맴버 연산"
      ],
      "metadata": {
        "id": "JnvSrf1HkaXA"
      }
    },
    {
      "cell_type": "code",
      "source": [
        "x = [1, 2, 3, 4]\n",
        "\n",
        "print(1 in x)\n",
        "print(1 not in x)"
      ],
      "metadata": {
        "colab": {
          "base_uri": "https://localhost:8080/"
        },
        "id": "j7CTeCWDjacG",
        "outputId": "754420e7-ed24-49c0-fb64-aad61104220f"
      },
      "execution_count": null,
      "outputs": [
        {
          "output_type": "stream",
          "name": "stdout",
          "text": [
            "True\n",
            "False\n"
          ]
        }
      ]
    },
    {
      "cell_type": "markdown",
      "source": [
        "## 연습문제\n",
        "\n",
        "문제1 '12t34w12z34s23e16'에서 3보다 작은 수를 모두 더하는 코드를 작성해주세요.\n",
        "\n",
        "문제2 '010.5044.2903'을 '5044-2903'으로 출력해주세요.\n",
        "\n",
        "문제3 '192819283182'에서 중복된 숫자를 모두 제거하고 모든 숫자를 더해주세요.\n",
        "\n",
        "문제4 1부터 10000까지 3의 배수와 5의 배수와 7의 배수를 모두 더해주세요.\n",
        "       모두 만족하는 숫자는 한 번만 더해주어야 합니다.\n",
        "       (함정) 더할 때 2로 나누어지는 숫자는 더하지 않습니다."
      ],
      "metadata": {
        "id": "1xmHsIBmk5MS"
      }
    },
    {
      "cell_type": "code",
      "source": [
        "# 문제 1.'12t34w12z34s23e16'에서 3보다 작은 수를 모두 더하는 코드를 작성해주세요.\n",
        "\n",
        "s = '12t34w12z34s23e16'\n",
        "result = 0\n",
        "for i in s:\n",
        "    if i.isdigit() and int(i) < 3:\n",
        "        result += int(i)\n",
        "\n",
        "print(result)\n",
        "\n",
        "# 문제 1.'12t34w12z34s23e16'에서 3보다 작은 수를 모두 더하는 코드를 작성해주세요.\n",
        "\n",
        "# for와 if가 하나씩 있을 때는 리스트 컴프리헨션을 사용함.\n",
        "\n",
        "s = '12t34w12z34s23e16'\n",
        "result = sum(int(i) for i in s if i.isdigit() and int(i) < 3)\n",
        "print(result)"
      ],
      "metadata": {
        "colab": {
          "base_uri": "https://localhost:8080/"
        },
        "id": "vGe1qGgBmK7b",
        "outputId": "ae190c80-27e4-47c5-b8dd-672909632d37"
      },
      "execution_count": null,
      "outputs": [
        {
          "output_type": "stream",
          "name": "stdout",
          "text": [
            "9\n",
            "9\n"
          ]
        },
        {
          "output_type": "execute_result",
          "data": {
            "text/plain": [
              "[]"
            ]
          },
          "metadata": {},
          "execution_count": 67
        }
      ]
    },
    {
      "cell_type": "code",
      "source": [
        "# 문제 2. '010.5044.2903'을 '5044-2903'으로 출력해주세요.\n",
        "\n",
        "s = '010.5044.2903'\n",
        "print(s.replace('.', '-')[4:])\n",
        "\n",
        "# 문제 2. '010.5044.2903'을 '5044-2903'으로 출력해주세요.\n",
        "\n",
        "s = '010.5044.2903'\n",
        "result = '-'.join(s.split('.')[1:])\n",
        "print(result)\n",
        "\n",
        "s = '010.5044.2903'\n",
        "result = s[s.index('.')+1:].replace('.', '-')"
      ],
      "metadata": {
        "colab": {
          "base_uri": "https://localhost:8080/"
        },
        "id": "bqmBO2GGnjlP",
        "outputId": "50d94031-f016-47f9-d015-9f631744f81d"
      },
      "execution_count": null,
      "outputs": [
        {
          "output_type": "stream",
          "name": "stdout",
          "text": [
            "5044-2903\n",
            "5044-2903\n"
          ]
        }
      ]
    },
    {
      "cell_type": "code",
      "source": [
        "# 문제 3. '192819283182'에서 중복된 숫자를 모두 제거하고 모든 숫자를 더해주세요.\n",
        "\n",
        "s =  '192819283182'\n",
        "lst = []\n",
        "for i in s:\n",
        "    if i.isdigit():\n",
        "        lst.append(int(i))\n",
        "\n",
        "print(sum(set(lst)))\n",
        "\n",
        "# 문제 3. '192819283182'에서 중복된 숫자를 모두 제거하고 모든 숫자를 더해주세요.\n",
        "\n",
        "s = '192819283182'\n",
        "result = sum(set(map(int, s)))\n",
        "print(result)\n",
        "\n",
        "\n",
        "result = []\n",
        "s= '192819283182'\n",
        "for i in s:\n",
        "    if int(i) not in result:\n",
        "        result.append(int(i))\n",
        "\n",
        "print(sum(result))"
      ],
      "metadata": {
        "colab": {
          "base_uri": "https://localhost:8080/"
        },
        "id": "7vT0Xh5Vnxmf",
        "outputId": "b2f4ff92-d6d7-44e8-f030-0bd60d6a5988"
      },
      "execution_count": null,
      "outputs": [
        {
          "output_type": "stream",
          "name": "stdout",
          "text": [
            "23\n",
            "23\n",
            "23\n"
          ]
        }
      ]
    },
    {
      "cell_type": "code",
      "source": [
        "# 문제 4. 문제4 1부터 10000까지 3의 배수와 5의 배수와 7의 배수를 모두 더해주세요.\n",
        "#       모두 만족하는 숫자는 한 번만 더해주어야 합니다.\n",
        "#       (함정) 더할 때 2로 나누어지는 숫자는 더하지 않습니다.\n",
        "\n",
        "result = 0\n",
        "for i in range(1, 10001):\n",
        "    if (i % 3 == 0 or i % 5 == 0 or i % 7 == 0) and i % 2 != 0:\n",
        "        result += i\n",
        "\n",
        "print(result)\n",
        "\n",
        "result = 0\n",
        "for i in range(1, 10001, 2):\n",
        "    if i % 3 == 0 or i % 5 == 0 or i % 7 == 0:\n",
        "        result += i\n",
        "\n",
        "print(result)"
      ],
      "metadata": {
        "id": "sQ0BAqIxpYHZ",
        "colab": {
          "base_uri": "https://localhost:8080/"
        },
        "outputId": "a51d620e-5d8e-44ad-8c1d-dfec9f4a1f90"
      },
      "execution_count": 80,
      "outputs": [
        {
          "output_type": "stream",
          "name": "stdout",
          "text": [
            "13578585\n",
            "13578585\n"
          ]
        }
      ]
    },
    {
      "cell_type": "markdown",
      "source": [
        "## Python 동작 원리\n",
        "\n",
        "* Cpython을 공부하면 좋은가? 성능에 영향이 크게 끼치는 대규 시스템 구축이라던지 시간에 민감한 SW를 개발한다면 Cpython을 공부해야 할 수도 있습니다. 필요성이 확고하게 인지되기 전까지는 공부를 미루시는 것을 권합니다. 이유는 공부할게 이것 말고도 많습니다. 그리고 이걸 공부한다고 Python실력이 느는 것은 아닙니다.\n",
        "\n",
        "* 31초가 걸리는 작업을 30초로 줄여야 함.(배민 주문) -> 이런 작업을 하려면 python으로 하면 안됨.\n",
        "\n",
        "* https://github.com/python/cpython 가 Python 공식홈페이지에서 다운로드 받는 파이썬입니다.\n",
        "\n",
        "* jython은 JAVA로 구현된 파이썬입니다. 파이썬이 꼭 하나의 언어로만 개발이 된 것은 아닙니다.\n",
        "\n",
        "* Python은 라인라인 별로 실행합니다. 그런데 C는 전체 파일을 컴파일해서 애러가 있으면 애초에 실행이 안되요. 그런데 Python 어떻게 라인라인 별로 실행이 되다가 중간에 애러가 날까요? Python도 C로 실행이 되는건데요?\n",
        "\n",
        "* 동작방식\n",
        "    1. Python 양식으로 만들어진 텍스트를 파싱합니다.\n",
        "    2. 추상 구문 트리(AST)를 그립니다.\n",
        "    3. 바이트코드로 변경을 합니다.\n",
        "    4. 바이트 코드를 컴파일합니다.\n",
        "    5. 파이썬 가상머신에서 컴파일 한 것을 한 줄씩 실행합니다."
      ],
      "metadata": {
        "id": "yIvlhsvqGMV_"
      }
    },
    {
      "cell_type": "markdown",
      "source": [
        "## 시퀀스형 자료형\n",
        "\n",
        "* list, tuple, dictionary, set"
      ],
      "metadata": {
        "id": "lFzb4F8Ckxmg"
      }
    },
    {
      "cell_type": "code",
      "source": [
        "# list\n",
        "\n",
        "l = [1, 2, 3, 4]\n",
        "\n",
        "print(type(l))  # 컨테이너 자료형일 때, 알 수 있음\n",
        "print(dir(l))   # 속성을 알 수 있음"
      ],
      "metadata": {
        "id": "FFDcMxDdklFn",
        "colab": {
          "base_uri": "https://localhost:8080/"
        },
        "outputId": "1126e472-1412-419b-cbc7-0ed6e3b069c3"
      },
      "execution_count": 82,
      "outputs": [
        {
          "output_type": "stream",
          "name": "stdout",
          "text": [
            "<class 'list'>\n",
            "['__add__', '__class__', '__class_getitem__', '__contains__', '__delattr__', '__delitem__', '__dir__', '__doc__', '__eq__', '__format__', '__ge__', '__getattribute__', '__getitem__', '__gt__', '__hash__', '__iadd__', '__imul__', '__init__', '__init_subclass__', '__iter__', '__le__', '__len__', '__lt__', '__mul__', '__ne__', '__new__', '__reduce__', '__reduce_ex__', '__repr__', '__reversed__', '__rmul__', '__setattr__', '__setitem__', '__sizeof__', '__str__', '__subclasshook__', 'append', 'clear', 'copy', 'count', 'extend', 'index', 'insert', 'pop', 'remove', 'reverse', 'sort']\n"
          ]
        }
      ]
    },
    {
      "cell_type": "code",
      "source": [
        "# append: 요소 하나하나씩 추가할 때\n",
        "# extend: 요소를 한번에 추가할 때\n",
        "# copy(): 새로운 메모리 주소에 할당되는 객체를 만드는 것\n",
        "# count, extend, index, insert, pop, remove, reserve\n",
        "# sort: 정렬"
      ],
      "metadata": {
        "id": "HtJwuajHIkbA"
      },
      "execution_count": 84,
      "outputs": []
    },
    {
      "cell_type": "code",
      "source": [
        "l = [1, 2, 3, 4]\n",
        "c = l.pop(0)    # 인덱스 번호 입력\n",
        "print(c)"
      ],
      "metadata": {
        "colab": {
          "base_uri": "https://localhost:8080/"
        },
        "id": "wt0TWA1HK5IZ",
        "outputId": "64f407f8-f150-478f-c228-5e31b3c14fd6"
      },
      "execution_count": 86,
      "outputs": [
        {
          "output_type": "stream",
          "name": "stdout",
          "text": [
            "1\n"
          ]
        }
      ]
    },
    {
      "cell_type": "code",
      "source": [
        "# sort: 정렬\n",
        "\n",
        "s = [1, 3, 4, 8, 13, 17, 20]\n",
        "\n",
        "sorted_s = sorted(s, key=lambda x: x % 5)\n",
        "print(sorted_s)\n",
        "\n",
        "# 또는 원본 리스트를 직접 정렬\n",
        "s.sort(key=lambda x: x % 5)\n",
        "print(s)"
      ],
      "metadata": {
        "colab": {
          "base_uri": "https://localhost:8080/"
        },
        "id": "ZBKMHDoYLxFf",
        "outputId": "2309ffd9-16ab-4292-d394-0afc2392f8cc"
      },
      "execution_count": 96,
      "outputs": [
        {
          "output_type": "stream",
          "name": "stdout",
          "text": [
            "[20, 1, 17, 3, 8, 13, 4]\n",
            "[20, 1, 17, 3, 8, 13, 4]\n"
          ]
        }
      ]
    },
    {
      "cell_type": "code",
      "source": [
        "# tuple: 값의 변화가 불가능, 하지만 튜플 안에 변경가능한 자료가 있는 경우 가능\n",
        "\n",
        "# 튜플은 참조가 불변.\n",
        "\n",
        "t = (1, 2, 3, 4)"
      ],
      "metadata": {
        "id": "J2WUQOnkORcL"
      },
      "execution_count": null,
      "outputs": []
    },
    {
      "cell_type": "code",
      "source": [
        "# dict\n",
        "d = {'one': 1, 'two': 2, 'three': 3}\n",
        "\n",
        "d.items()   # 새로운 함수"
      ],
      "metadata": {
        "colab": {
          "base_uri": "https://localhost:8080/"
        },
        "id": "63QjqB4mS_Eb",
        "outputId": "06b00565-7b24-49a3-f575-6cacdd6f5f2c"
      },
      "execution_count": 97,
      "outputs": [
        {
          "output_type": "execute_result",
          "data": {
            "text/plain": [
              "dict_items([('one', 1), ('two', 2), ('three', 3)])"
            ]
          },
          "metadata": {},
          "execution_count": 97
        }
      ]
    },
    {
      "cell_type": "code",
      "source": [
        "# key 와 value를 고정시키기 위해 튜플을 안에 가둠"
      ],
      "metadata": {
        "id": "-X-sYeDUTLgR"
      },
      "execution_count": 98,
      "outputs": []
    },
    {
      "cell_type": "code",
      "source": [
        "def add(a, b):\n",
        "    return a + b\n",
        "\n",
        "def sub(a, b):\n",
        "    return a - b\n",
        "\n",
        "def mul(a, b):\n",
        "    return a * b\n",
        "\n",
        "def div(a, b):\n",
        "    return a / b\n",
        "\n",
        "d = [add, sub, mul, div]\n",
        "\n",
        "d[0](10, 20)"
      ],
      "metadata": {
        "colab": {
          "base_uri": "https://localhost:8080/"
        },
        "id": "JZIesP22T3N9",
        "outputId": "2c7b79f3-7e40-4d60-fcd0-f10367238678"
      },
      "execution_count": 99,
      "outputs": [
        {
          "output_type": "execute_result",
          "data": {
            "text/plain": [
              "30"
            ]
          },
          "metadata": {},
          "execution_count": 99
        }
      ]
    },
    {
      "cell_type": "code",
      "source": [
        "def 요일변환(day):\n",
        "    return {'mon': '월', 'tue': '화', 'wed': '수'}.get(day, '제대로 입력해야지!')\n",
        "\n",
        "요일변환('mon')\n",
        "요일변환('three')"
      ],
      "metadata": {
        "colab": {
          "base_uri": "https://localhost:8080/",
          "height": 36
        },
        "id": "oecGAwn6UZCW",
        "outputId": "ef0aef11-df72-45cd-f4d4-0b7bcd429f70"
      },
      "execution_count": 100,
      "outputs": [
        {
          "output_type": "execute_result",
          "data": {
            "text/plain": [
              "'제대로 입력해야지!'"
            ],
            "application/vnd.google.colaboratory.intrinsic+json": {
              "type": "string"
            }
          },
          "metadata": {},
          "execution_count": 100
        }
      ]
    },
    {
      "cell_type": "code",
      "source": [
        "d = {\"one\": 1, \"two\": 2, \"three\": 3}\n",
        "dd = {\"one\": 100, \"two\": 200, \"four\": 4, \"five\": 5}\n",
        "\n",
        "print(d | dd)"
      ],
      "metadata": {
        "colab": {
          "base_uri": "https://localhost:8080/"
        },
        "id": "tjEWKnY7VLUP",
        "outputId": "fa5d49e4-70ef-4407-9f5a-b2aa4b3ce4a4"
      },
      "execution_count": 108,
      "outputs": [
        {
          "output_type": "stream",
          "name": "stdout",
          "text": [
            "{'one': 100, 'two': 200, 'three': 3, 'four': 4, 'five': 5}\n"
          ]
        }
      ]
    },
    {
      "cell_type": "code",
      "source": [
        "# set\n",
        "\n",
        "s = {1, 2, 3, 4}\n",
        "ss = {3, 4, 5, 6}\n",
        "\n",
        "print(s | ss)\n",
        "print(s - ss)\n",
        "print(s & ss)"
      ],
      "metadata": {
        "colab": {
          "base_uri": "https://localhost:8080/"
        },
        "id": "0y8jFPnqWmuq",
        "outputId": "4045b577-1e62-4695-90e2-5b226bfa8f76"
      },
      "execution_count": 109,
      "outputs": [
        {
          "output_type": "stream",
          "name": "stdout",
          "text": [
            "{1, 2, 3, 4, 5, 6}\n",
            "{1, 2}\n",
            "{3, 4}\n"
          ]
        }
      ]
    },
    {
      "cell_type": "markdown",
      "source": [
        "## if 조건문"
      ],
      "metadata": {
        "id": "H0cl8K5kX7Yc"
      }
    },
    {
      "cell_type": "code",
      "source": [
        "if True:\n",
        "    print('hello')\n",
        "else:\n",
        "    print(\"world\")\n",
        "\n",
        "if False:\n",
        "    print('hello')\n",
        "elif False:\n",
        "    print(\"hello\")\n",
        "else:\n",
        "    print(\"world\")\n",
        "\n",
        "# 조건문이 많을 시 딕셔너리로 만들 생각해야 함"
      ],
      "metadata": {
        "colab": {
          "base_uri": "https://localhost:8080/"
        },
        "id": "z5S9rs-AX3Z_",
        "outputId": "1a955301-23d7-48fd-c300-3737c6ae41a0"
      },
      "execution_count": 111,
      "outputs": [
        {
          "output_type": "stream",
          "name": "stdout",
          "text": [
            "hello\n",
            "world\n"
          ]
        }
      ]
    },
    {
      "cell_type": "markdown",
      "source": [
        "## 반복문 for, while"
      ],
      "metadata": {
        "id": "0ZbaVfdPaFYr"
      }
    },
    {
      "cell_type": "code",
      "source": [
        "for i, j in [[10, 20], [30, 40]]:\n",
        "    print(i, j)"
      ],
      "metadata": {
        "colab": {
          "base_uri": "https://localhost:8080/"
        },
        "id": "bzoRScwfYXtj",
        "outputId": "11c323d9-3424-4d2c-9d74-4faa04bfdc92"
      },
      "execution_count": 119,
      "outputs": [
        {
          "output_type": "stream",
          "name": "stdout",
          "text": [
            "10 20\n",
            "30 40\n"
          ]
        }
      ]
    },
    {
      "cell_type": "code",
      "source": [
        "가수 = ['뉴진스', '아이유', '에스파', '트와이스']\n",
        "\n",
        "for index, value in enumerate(가수, 1):\n",
        "    print(index, value)"
      ],
      "metadata": {
        "colab": {
          "base_uri": "https://localhost:8080/"
        },
        "id": "5u2hFiyybGcG",
        "outputId": "3714b8a5-066d-4886-b981-6ade986db007"
      },
      "execution_count": 121,
      "outputs": [
        {
          "output_type": "stream",
          "name": "stdout",
          "text": [
            "1 뉴진스\n",
            "2 아이유\n",
            "3 에스파\n",
            "4 트와이스\n"
          ]
        }
      ]
    },
    {
      "cell_type": "code",
      "source": [
        "가수 = ['뉴진스', '아이유', '에스파', '트와이스']\n",
        "while 가수:\n",
        "    print(f\"{가수.pop()}가 최고야.\")"
      ],
      "metadata": {
        "colab": {
          "base_uri": "https://localhost:8080/"
        },
        "id": "r6qI4E-NbfmQ",
        "outputId": "e086e05c-f8f1-4575-d7cd-1d01a4aa02ac"
      },
      "execution_count": 122,
      "outputs": [
        {
          "output_type": "stream",
          "name": "stdout",
          "text": [
            "트와이스가 최고야.\n",
            "에스파가 최고야.\n",
            "아이유가 최고야.\n",
            "뉴진스가 최고야.\n"
          ]
        }
      ]
    },
    {
      "cell_type": "code",
      "source": [
        "# for은 정해진 요소로 반복할 때, while은 조건에 따라 반복할 때 사용"
      ],
      "metadata": {
        "id": "tCLku714cJTV"
      },
      "execution_count": 123,
      "outputs": []
    },
    {
      "cell_type": "code",
      "source": [
        "# break: 바로 위에 반복문 1개 탈출함\n",
        "# continue: 다음 루프로 넘어감\n",
        "# pass: 공백을 채우기 위한 용도로 사용"
      ],
      "metadata": {
        "id": "XVa-0d54cyCH"
      },
      "execution_count": 124,
      "outputs": []
    },
    {
      "cell_type": "code",
      "source": [],
      "metadata": {
        "id": "5M9Flhnqf5nQ"
      },
      "execution_count": null,
      "outputs": []
    }
  ]
}