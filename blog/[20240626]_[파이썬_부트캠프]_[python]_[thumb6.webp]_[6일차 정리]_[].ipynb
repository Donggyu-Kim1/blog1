{
  "nbformat": 4,
  "nbformat_minor": 0,
  "metadata": {
    "colab": {
      "provenance": [],
      "toc_visible": true
    },
    "kernelspec": {
      "name": "python3",
      "display_name": "Python 3"
    },
    "language_info": {
      "name": "python"
    }
  },
  "cells": [
    {
      "cell_type": "markdown",
      "source": [
        "# 오늘의 상식\n",
        "\n",
        "* 엔트로픽 Claude 팀 프로젝트 기능\n",
        "\n"
      ],
      "metadata": {
        "id": "OKBdzY951N4d"
      }
    },
    {
      "cell_type": "markdown",
      "source": [
        "# 조건문 실습\n",
        "\n",
        "1. 총 금액 계산"
      ],
      "metadata": {
        "id": "cFts26SF_nzx"
      }
    },
    {
      "cell_type": "code",
      "execution_count": 7,
      "metadata": {
        "id": "yIE4K_RX0-u-",
        "colab": {
          "base_uri": "https://localhost:8080/"
        },
        "outputId": "bb223dcc-c39c-4506-c1c0-7725d676a4e4"
      },
      "outputs": [
        {
          "output_type": "stream",
          "name": "stdout",
          "text": [
            "상품의 개수: 123\n",
            "총 금액은 10,455원입니다.\n"
          ]
        }
      ],
      "source": [
        "def price(thing):\n",
        "    if thing < 10:\n",
        "        price = 100\n",
        "        thing_price = thing * price\n",
        "    elif 10 <= thing < 30:\n",
        "        price = 95\n",
        "        thing_price = thing * price\n",
        "    elif 30 <= thing < 100:\n",
        "        price = 90\n",
        "        thing_price = thing * price\n",
        "    elif 100 <= thing:\n",
        "        price = 85\n",
        "        thing_price = thing * price\n",
        "    return f\"총 금액은 {format(thing_price, ',')}원입니다.\"\n",
        "\n",
        "how_many = int(input(\"상품의 개수: \"))\n",
        "\n",
        "print(price(how_many))"
      ]
    },
    {
      "cell_type": "code",
      "source": [
        "'''\n",
        "class TestPriceFunction(unittest.TestCase):\n",
        "    def test_price_1(self):\n",
        "        self.assertEqual(price(1), 100)\n",
        "\n",
        "if __name__ == '__main__':\n",
        "    unittest.main(argv=['first-arg-is-ignored'], exit=False)\n",
        "'''\n",
        "\n",
        "# 실행 미리 확인 코드"
      ],
      "metadata": {
        "colab": {
          "base_uri": "https://localhost:8080/",
          "height": 54
        },
        "id": "ZVa5oPyg8_hf",
        "outputId": "4434eee0-03fb-4106-b060-6770b156092d"
      },
      "execution_count": 9,
      "outputs": [
        {
          "output_type": "execute_result",
          "data": {
            "text/plain": [
              "\"\\nclass TestPriceFunction(unittest.TestCase):\\n    def test_price_1(self):\\n        self.assertEqual(price(1), 100)\\n\\nif __name__ == '__main__':\\n    unittest.main(argv=['first-arg-is-ignored'], exit=False)\\n\""
            ],
            "application/vnd.google.colaboratory.intrinsic+json": {
              "type": "string"
            }
          },
          "metadata": {},
          "execution_count": 9
        }
      ]
    },
    {
      "cell_type": "markdown",
      "source": [
        "# 반복문 for\n",
        "\n",
        "for 변수명 in 순회 가능한 객체(iterable):"
      ],
      "metadata": {
        "id": "GN2h1M4TAjD7"
      }
    },
    {
      "cell_type": "code",
      "source": [
        "s = '12345'\n",
        "result = 0\n",
        "for i in s:\n",
        "    result += int(i)\n",
        "\n",
        "print(result)"
      ],
      "metadata": {
        "colab": {
          "base_uri": "https://localhost:8080/"
        },
        "id": "qy4iT8ByAy1u",
        "outputId": "bfc89346-e3e2-4542-c4f5-ca1ede6bbbd7"
      },
      "execution_count": 19,
      "outputs": [
        {
          "output_type": "stream",
          "name": "stdout",
          "text": [
            "15\n"
          ]
        }
      ]
    },
    {
      "cell_type": "code",
      "source": [
        "s = '010-7386-3406'\n",
        "result = ''\n",
        "\n",
        "for i in s:\n",
        "    if i.isdigit():\n",
        "        result += i\n",
        "\n",
        "print(result)"
      ],
      "metadata": {
        "colab": {
          "base_uri": "https://localhost:8080/"
        },
        "id": "Z8WyEfS1GJ2z",
        "outputId": "3633b7c2-a7b8-411a-9966-fdbd9aecdff3"
      },
      "execution_count": 21,
      "outputs": [
        {
          "output_type": "stream",
          "name": "stdout",
          "text": [
            "01073863406\n"
          ]
        }
      ]
    },
    {
      "cell_type": "code",
      "source": [
        "list_i = []\n",
        "for i in range(1,10,2):\n",
        "    list_i.append(i)\n",
        "\n",
        "print(f'홀수를 출력합니다. {list_i}')"
      ],
      "metadata": {
        "colab": {
          "base_uri": "https://localhost:8080/"
        },
        "id": "nI3y8EskG1YE",
        "outputId": "afa6f045-2419-40b9-f9ef-86696741f915"
      },
      "execution_count": 29,
      "outputs": [
        {
          "output_type": "stream",
          "name": "stdout",
          "text": [
            "홀수를 출력합니다. [1, 3, 5, 7, 9]\n"
          ]
        }
      ]
    },
    {
      "cell_type": "code",
      "source": [
        "# 반복문 기초 1 리스트 / 튜플 / 함수 / 계산식\n",
        "\n",
        "# 반복할게 많을 경우 print는 최소화해서 테스트한다.\n",
        "# 시간 관리를 해서, 얼마걸리는지 100~1000정도 테스트를 하고\n",
        "\n",
        "from time import process_time\n",
        "\n",
        "start = process_time()\n",
        "\n",
        "for i in [1,3,5,7,9]:\n",
        "  print(f\"홀수를 출력합니다. {i}\")\n",
        "\n",
        "end = process_time()\n",
        "print(f\"프로그램이 실행되는데 {end-start} 초가 걸렸습니다.\")"
      ],
      "metadata": {
        "colab": {
          "base_uri": "https://localhost:8080/"
        },
        "id": "xhyOwKdoKunA",
        "outputId": "fe917bb1-9790-4cde-ed9c-0baeeb946c3f"
      },
      "execution_count": 31,
      "outputs": [
        {
          "output_type": "stream",
          "name": "stdout",
          "text": [
            "홀수를 출력합니다. 1\n",
            "홀수를 출력합니다. 3\n",
            "홀수를 출력합니다. 5\n",
            "홀수를 출력합니다. 7\n",
            "홀수를 출력합니다. 9\n",
            "프로그램이 실행되는데 0.0031286290000025474 초가 걸렸습니다.\n"
          ]
        }
      ]
    },
    {
      "cell_type": "code",
      "source": [
        "for i in [[1, 2], [10, 20], [100, 200]]:\n",
        "    print(i)\n",
        "    print(i[0] + i[1])"
      ],
      "metadata": {
        "colab": {
          "base_uri": "https://localhost:8080/"
        },
        "id": "fx_NaPKaTXGy",
        "outputId": "3c25bfab-c548-4d1c-e093-9f2035ca0ebf"
      },
      "execution_count": 32,
      "outputs": [
        {
          "output_type": "stream",
          "name": "stdout",
          "text": [
            "[1, 2]\n",
            "3\n",
            "[10, 20]\n",
            "30\n",
            "[100, 200]\n",
            "300\n"
          ]
        }
      ]
    },
    {
      "cell_type": "code",
      "source": [
        "# 언패킹(unpacking)\n",
        "for i, j in [[1, 2], [10, 20], [100, 200]]:\n",
        "    print(i)\n",
        "    print(j)\n",
        "    print(i, j)\n"
      ],
      "metadata": {
        "colab": {
          "base_uri": "https://localhost:8080/"
        },
        "id": "ekQ0-GHIT8dy",
        "outputId": "0f967de6-5eae-489a-d6de-aae4aca553f9"
      },
      "execution_count": 33,
      "outputs": [
        {
          "output_type": "stream",
          "name": "stdout",
          "text": [
            "1\n",
            "2\n",
            "1 2\n",
            "10\n",
            "20\n",
            "10 20\n",
            "100\n",
            "200\n",
            "100 200\n"
          ]
        }
      ]
    },
    {
      "cell_type": "code",
      "source": [
        "# i\n",
        "program1 = ['python', 'pandas', 'numpy']\n",
        "\n",
        "for i in program1:\n",
        "    print(f\"프로그램은 {i}입니다.\")\n",
        "\n",
        "# i, j\n",
        "program2 = [['python', 1], ['pandas', 2], ['numpy', 3]]\n",
        "\n",
        "for i, j in program2:\n",
        "    print(f\"프로그램은 {i}입니다. 순위는 {j} 입니다.\")"
      ],
      "metadata": {
        "colab": {
          "base_uri": "https://localhost:8080/"
        },
        "id": "Ucq42fDzMKgy",
        "outputId": "c74930e4-4d76-44c2-d1bf-63910e993e10"
      },
      "execution_count": 37,
      "outputs": [
        {
          "output_type": "stream",
          "name": "stdout",
          "text": [
            "프로그램은 python입니다.\n",
            "프로그램은 pandas입니다.\n",
            "프로그램은 numpy입니다.\n",
            "프로그램은 python입니다. 순위는 1 입니다.\n",
            "프로그램은 pandas입니다. 순위는 2 입니다.\n",
            "프로그램은 numpy입니다. 순위는 3 입니다.\n"
          ]
        }
      ]
    },
    {
      "cell_type": "code",
      "source": [
        "단어_사전 = {\n",
        "    '하나' : 'one',\n",
        "    '둘' : 'two',\n",
        "    '셋' : 'three',\n",
        "}\n",
        "print(단어_사전.items())\n",
        "\n",
        "for key, value in 단어_사전.items():\n",
        "    print(f'{key} : {value}')"
      ],
      "metadata": {
        "colab": {
          "base_uri": "https://localhost:8080/"
        },
        "id": "y1h1yIBcV8Q1",
        "outputId": "3a03ec40-5b3d-4df7-a925-7007306cd06d"
      },
      "execution_count": 40,
      "outputs": [
        {
          "output_type": "stream",
          "name": "stdout",
          "text": [
            "dict_items([('하나', 'one'), ('둘', 'two'), ('셋', 'three')])\n",
            "하나 : one\n",
            "둘 : two\n",
            "셋 : three\n"
          ]
        }
      ]
    },
    {
      "cell_type": "code",
      "source": [
        "result = 0\n",
        "for i in range(0, 11, 2):\n",
        "    result += i\n",
        "    print(i)\n",
        "print(result)"
      ],
      "metadata": {
        "colab": {
          "base_uri": "https://localhost:8080/"
        },
        "id": "okouEe0bWlPr",
        "outputId": "3848e5bd-51a7-45cd-ca3e-7f26669d7469"
      },
      "execution_count": 43,
      "outputs": [
        {
          "output_type": "stream",
          "name": "stdout",
          "text": [
            "0\n",
            "2\n",
            "4\n",
            "6\n",
            "8\n",
            "10\n",
            "30\n"
          ]
        }
      ]
    },
    {
      "cell_type": "code",
      "source": [
        "from time import process_time\n",
        "\n",
        "start = process_time()\n",
        "\n",
        "result = 0\n",
        "for i in range(50001):\n",
        "    if i % 2 == 0:\n",
        "        result += i\n",
        "print(result)\n",
        "\n",
        "end = process_time()\n",
        "print(f\"프로그램이 실행되는데 {end-start} 초가 걸렸습니다.\")"
      ],
      "metadata": {
        "colab": {
          "base_uri": "https://localhost:8080/"
        },
        "id": "nd7HbcGYYs8R",
        "outputId": "8dc49452-922b-44c5-bc2c-23f61532e9d2"
      },
      "execution_count": 64,
      "outputs": [
        {
          "output_type": "stream",
          "name": "stdout",
          "text": [
            "625025000\n",
            "프로그램이 실행되는데 0.009897219999999152 초가 걸렸습니다.\n"
          ]
        }
      ]
    },
    {
      "cell_type": "code",
      "source": [
        "from time import process_time\n",
        "\n",
        "start = process_time()\n",
        "\n",
        "result = 0\n",
        "for i in range(0, 50001, 2):\n",
        "    result += i\n",
        "print(result)\n",
        "\n",
        "end = process_time()\n",
        "print(f\"프로그램이 실행되는데 {end-start} 초가 걸렸습니다.\")"
      ],
      "metadata": {
        "colab": {
          "base_uri": "https://localhost:8080/"
        },
        "id": "X5N4mhAYabsq",
        "outputId": "826027ab-2137-4452-d9b1-c700040a8cb2"
      },
      "execution_count": 63,
      "outputs": [
        {
          "output_type": "stream",
          "name": "stdout",
          "text": [
            "625025000\n",
            "프로그램이 실행되는데 0.003636243999999067 초가 걸렸습니다.\n"
          ]
        }
      ]
    },
    {
      "cell_type": "code",
      "source": [
        "start = process_time()\n",
        "\n",
        "for i in range(2, 10):\n",
        "    print(f\"---- {i}단 ----\")\n",
        "    for j in range(1, 10):\n",
        "        print(f'{i} x {j} = {i*j}')\n",
        "\n",
        "end = process_time()\n",
        "print(f\"프로그램이 실행되는데 {end-start} 초가 걸렸습니다.\")"
      ],
      "metadata": {
        "colab": {
          "base_uri": "https://localhost:8080/"
        },
        "id": "vDC0JJCXamW_",
        "outputId": "6c9fc435-2e80-46eb-d76d-1f85885c8401"
      },
      "execution_count": 68,
      "outputs": [
        {
          "output_type": "stream",
          "name": "stdout",
          "text": [
            "---- 2단 ----\n",
            "2 x 1 = 2\n",
            "2 x 2 = 4\n",
            "2 x 3 = 6\n",
            "2 x 4 = 8\n",
            "2 x 5 = 10\n",
            "2 x 6 = 12\n",
            "2 x 7 = 14\n",
            "2 x 8 = 16\n",
            "2 x 9 = 18\n",
            "---- 3단 ----\n",
            "3 x 1 = 3\n",
            "3 x 2 = 6\n",
            "3 x 3 = 9\n",
            "3 x 4 = 12\n",
            "3 x 5 = 15\n",
            "3 x 6 = 18\n",
            "3 x 7 = 21\n",
            "3 x 8 = 24\n",
            "3 x 9 = 27\n",
            "---- 4단 ----\n",
            "4 x 1 = 4\n",
            "4 x 2 = 8\n",
            "4 x 3 = 12\n",
            "4 x 4 = 16\n",
            "4 x 5 = 20\n",
            "4 x 6 = 24\n",
            "4 x 7 = 28\n",
            "4 x 8 = 32\n",
            "4 x 9 = 36\n",
            "---- 5단 ----\n",
            "5 x 1 = 5\n",
            "5 x 2 = 10\n",
            "5 x 3 = 15\n",
            "5 x 4 = 20\n",
            "5 x 5 = 25\n",
            "5 x 6 = 30\n",
            "5 x 7 = 35\n",
            "5 x 8 = 40\n",
            "5 x 9 = 45\n",
            "---- 6단 ----\n",
            "6 x 1 = 6\n",
            "6 x 2 = 12\n",
            "6 x 3 = 18\n",
            "6 x 4 = 24\n",
            "6 x 5 = 30\n",
            "6 x 6 = 36\n",
            "6 x 7 = 42\n",
            "6 x 8 = 48\n",
            "6 x 9 = 54\n",
            "---- 7단 ----\n",
            "7 x 1 = 7\n",
            "7 x 2 = 14\n",
            "7 x 3 = 21\n",
            "7 x 4 = 28\n",
            "7 x 5 = 35\n",
            "7 x 6 = 42\n",
            "7 x 7 = 49\n",
            "7 x 8 = 56\n",
            "7 x 9 = 63\n",
            "---- 8단 ----\n",
            "8 x 1 = 8\n",
            "8 x 2 = 16\n",
            "8 x 3 = 24\n",
            "8 x 4 = 32\n",
            "8 x 5 = 40\n",
            "8 x 6 = 48\n",
            "8 x 7 = 56\n",
            "8 x 8 = 64\n",
            "8 x 9 = 72\n",
            "---- 9단 ----\n",
            "9 x 1 = 9\n",
            "9 x 2 = 18\n",
            "9 x 3 = 27\n",
            "9 x 4 = 36\n",
            "9 x 5 = 45\n",
            "9 x 6 = 54\n",
            "9 x 7 = 63\n",
            "9 x 8 = 72\n",
            "9 x 9 = 81\n",
            "프로그램이 실행되는데 0.03172796899999497 초가 걸렸습니다.\n"
          ]
        }
      ]
    },
    {
      "cell_type": "code",
      "source": [
        "for i in [[1, 2], [10, 20], [100, 200]]:\n",
        "    for j in i:\n",
        "        print(i)\n",
        "        print(j)"
      ],
      "metadata": {
        "colab": {
          "base_uri": "https://localhost:8080/"
        },
        "id": "rsS6pXAFcAyi",
        "outputId": "ae219d91-a387-4cb5-ec37-033b6d7c6f72"
      },
      "execution_count": 67,
      "outputs": [
        {
          "output_type": "stream",
          "name": "stdout",
          "text": [
            "[1, 2]\n",
            "1\n",
            "[1, 2]\n",
            "2\n",
            "[10, 20]\n",
            "10\n",
            "[10, 20]\n",
            "20\n",
            "[100, 200]\n",
            "100\n",
            "[100, 200]\n",
            "200\n"
          ]
        }
      ]
    },
    {
      "cell_type": "markdown",
      "source": [
        "## 컴프리헨션(comprehension)"
      ],
      "metadata": {
        "id": "zBoqG1X4ivEX"
      }
    },
    {
      "cell_type": "code",
      "source": [
        "# 리스트 컴프리헨션\n",
        "\n",
        "x = []  # 비어있는 리스트\n",
        "\n",
        "for i in range(1, 10):\n",
        "    x.append(i)\n",
        "\n",
        "print(x)    # 출력 값: [1, 2, 3, 4, 5, 6, 7, 8, 9]\n",
        "\n",
        "# 한문장으로 가능, 리스트 컴프리헨션\n",
        "y = [i for i in range(1, 10)]\n",
        "print(y)    # 출력 값: [1, 2, 3, 4, 5, 6, 7, 8, 9]\n",
        "\n",
        "z = [i * 2 for i in range(1, 10) if i % 2 == 0 or i % 3 == 0]\n",
        "print(z)    # 출력 값: [4, 6, 8, 12, 16, 18]"
      ],
      "metadata": {
        "colab": {
          "base_uri": "https://localhost:8080/"
        },
        "id": "n_4eJ0ADhoXw",
        "outputId": "5a3406be-a7c3-4958-e73a-240945e251b7"
      },
      "execution_count": 77,
      "outputs": [
        {
          "output_type": "stream",
          "name": "stdout",
          "text": [
            "[1, 2, 3, 4, 5, 6, 7, 8, 9]\n",
            "[1, 2, 3, 4, 5, 6, 7, 8, 9]\n",
            "[4, 6, 8, 12, 16, 18]\n"
          ]
        }
      ]
    },
    {
      "cell_type": "code",
      "source": [
        "nums = [1, 2, 3, 4, 5]\n",
        "result = [f'{x}는 3보다 큰 짝수' if x % 2 == 0 else f'{x}는 3보다 큰 홀수' for x in nums if x > 3]\n",
        "print(result)\n",
        "# 출력 값: ['4는 3보다 큰 짝수', '5는 3보다 큰 홀수'], 앞에 조건문 가\n",
        "\n",
        "result = []\n",
        "nums = [1, 2, 3, 4, 5]\n",
        "for x in nums:\n",
        "    if x > 3:\n",
        "        if x % 2 == 0:\n",
        "            result.append(f'{x}는 3보다 큰 짝수')\n",
        "        else:\n",
        "            result.append(f'{x}는 3보다 큰 홀수')\n",
        "print(result)"
      ],
      "metadata": {
        "colab": {
          "base_uri": "https://localhost:8080/"
        },
        "id": "h63VppYPnNem",
        "outputId": "5b8dd61c-cae8-48b6-9e49-92adfcc28600"
      },
      "execution_count": 79,
      "outputs": [
        {
          "output_type": "stream",
          "name": "stdout",
          "text": [
            "['4는 3보다 큰 짝수', '5는 3보다 큰 홀수']\n",
            "['4는 3보다 큰 짝수', '5는 3보다 큰 홀수']\n"
          ]
        }
      ]
    },
    {
      "cell_type": "code",
      "source": [
        "# 딕셔너리 컴프리헨션\n"
      ],
      "metadata": {
        "id": "KCdYP-7gjQZ_"
      },
      "execution_count": 76,
      "outputs": []
    },
    {
      "cell_type": "code",
      "source": [
        "def my_sum(numbers):\n",
        "    total = 0\n",
        "    for num in numbers:\n",
        "        total += num\n",
        "    return total\n",
        "\n",
        "print(my_sum([1, 2, 3, 4, 5]))"
      ],
      "metadata": {
        "colab": {
          "base_uri": "https://localhost:8080/"
        },
        "id": "-NrQq7ZqlgI7",
        "outputId": "5e92a145-5e88-426f-ce45-2282c462f54f"
      },
      "execution_count": 84,
      "outputs": [
        {
          "output_type": "stream",
          "name": "stdout",
          "text": [
            "15\n"
          ]
        }
      ]
    },
    {
      "cell_type": "code",
      "source": [
        "def my_sum(numbers):\n",
        "    my_sum1 = sum([i for i in numbers if i % 2 != 0])\n",
        "    return my_sum1\n",
        "\n",
        "print(my_sum([1, 2, 3, 4 ,5]))"
      ],
      "metadata": {
        "colab": {
          "base_uri": "https://localhost:8080/"
        },
        "id": "l7VF3zNFnwUW",
        "outputId": "374a4ec0-8e23-4344-cc69-5e0110ecf509"
      },
      "execution_count": 96,
      "outputs": [
        {
          "output_type": "stream",
          "name": "stdout",
          "text": [
            "9\n"
          ]
        }
      ]
    },
    {
      "cell_type": "code",
      "source": [
        "z_list = []\n",
        "z_list = [f'{i} × {j} = {i*j}'for i in range(2, 5) for i in range(1, 5)]\n",
        "\n",
        "z_list"
      ],
      "metadata": {
        "colab": {
          "base_uri": "https://localhost:8080/"
        },
        "id": "X5rhdYMzoU3g",
        "outputId": "53c0eb0d-0fd0-4e9b-b3fd-90f84208a2eb"
      },
      "execution_count": 100,
      "outputs": [
        {
          "output_type": "execute_result",
          "data": {
            "text/plain": [
              "['1 × 9 = 9',\n",
              " '2 × 9 = 18',\n",
              " '3 × 9 = 27',\n",
              " '4 × 9 = 36',\n",
              " '1 × 9 = 9',\n",
              " '2 × 9 = 18',\n",
              " '3 × 9 = 27',\n",
              " '4 × 9 = 36',\n",
              " '1 × 9 = 9',\n",
              " '2 × 9 = 18',\n",
              " '3 × 9 = 27',\n",
              " '4 × 9 = 36']"
            ]
          },
          "metadata": {},
          "execution_count": 100
        }
      ]
    },
    {
      "cell_type": "code",
      "source": [
        "def sumthingFunction(i): # 1\n",
        "    if i % 100 == 0:\n",
        "        return i\n",
        "    else:\n",
        "        return 0\n",
        "\n",
        "\n",
        "l = [100, 200, 300, 101, 202, 303] # 2\n",
        "l = [sumthingFunction(i) for i in l] # 3\n",
        "print(l)\n",
        "# 출력 값: [100, 200, 300, 0, 0, 0]"
      ],
      "metadata": {
        "colab": {
          "base_uri": "https://localhost:8080/"
        },
        "id": "bFino1V28ta-",
        "outputId": "bbfe24c5-0484-425e-c64b-04f4b41ba6fd"
      },
      "execution_count": 102,
      "outputs": [
        {
          "output_type": "stream",
          "name": "stdout",
          "text": [
            "[100, 200, 300, 0, 0, 0]\n"
          ]
        }
      ]
    },
    {
      "cell_type": "code",
      "source": [
        "# 딕셔너리 컴프리헨션: 리스트와 달리 중괄호 사용\n",
        "# 앞 요소도 키: 값 형태여야 함\n",
        "\n",
        "even_squares = {x: x**2 for x in range(1, 10) if x % 2 == 0}\n",
        "\n",
        "print(even_squares)"
      ],
      "metadata": {
        "colab": {
          "base_uri": "https://localhost:8080/"
        },
        "id": "-MWTRRrQ9cJn",
        "outputId": "2e8352b7-cffd-4dc4-a145-54ff12b92e21"
      },
      "execution_count": 103,
      "outputs": [
        {
          "output_type": "stream",
          "name": "stdout",
          "text": [
            "{0: 0, 2: 4, 4: 16, 6: 36, 8: 64}\n"
          ]
        }
      ]
    },
    {
      "cell_type": "code",
      "source": [
        "# 복합 자료형 순회\n",
        "for i, j, k in ['abc', 'def', 'ghi']:\n",
        "    print(i, j, k)\n",
        "\n",
        "'''\n",
        "출력 값:\n",
        "a b c\n",
        "d e f\n",
        "g h i\n",
        "'''"
      ],
      "metadata": {
        "colab": {
          "base_uri": "https://localhost:8080/",
          "height": 92
        },
        "id": "tRu-Tzv3-HcB",
        "outputId": "6f7dc84d-646d-4f2a-984a-9b3869c55876"
      },
      "execution_count": 105,
      "outputs": [
        {
          "output_type": "stream",
          "name": "stdout",
          "text": [
            "a b c\n",
            "d e f\n",
            "g h i\n"
          ]
        },
        {
          "output_type": "execute_result",
          "data": {
            "text/plain": [
              "'\\n출력 값:\\na b c\\nd e f\\ng h i\\n'"
            ],
            "application/vnd.google.colaboratory.intrinsic+json": {
              "type": "string"
            }
          },
          "metadata": {},
          "execution_count": 105
        }
      ]
    },
    {
      "cell_type": "code",
      "source": [
        "# enumerate를 사용한 순회\n",
        "\n",
        "영화누적관객수 = ['레미제라블', '뷰티인사이트', '매트릭스', '인셉션', '어거스트 러쉬']\n",
        "for i in enumerate(영화누적관객수, 100):\n",
        "    print(i)\n",
        "\n",
        "for i, j in enumerate(영화누적관객수, 1):\n",
        "    print(f'누적관객수 {i}위! {j}!')\n",
        "\n",
        "# 숫자가 앞에 할당됨"
      ],
      "metadata": {
        "colab": {
          "base_uri": "https://localhost:8080/"
        },
        "id": "eGaD-zWk-aI5",
        "outputId": "5d8aa5df-d703-4daa-ae90-86e4717d598a"
      },
      "execution_count": 106,
      "outputs": [
        {
          "output_type": "stream",
          "name": "stdout",
          "text": [
            "(100, '레미제라블')\n",
            "(101, '뷰티인사이트')\n",
            "(102, '매트릭스')\n",
            "(103, '인셉션')\n",
            "(104, '어거스트 러쉬')\n",
            "누적관객수 1위! 레미제라블!\n",
            "누적관객수 2위! 뷰티인사이트!\n",
            "누적관객수 3위! 매트릭스!\n",
            "누적관객수 4위! 인셉션!\n",
            "누적관객수 5위! 어거스트 러쉬!\n"
          ]
        }
      ]
    },
    {
      "cell_type": "markdown",
      "source": [
        "## 반복문 실습"
      ],
      "metadata": {
        "id": "HRT5__vGD9kW"
      }
    },
    {
      "cell_type": "code",
      "source": [
        "for a in range(8):\n",
        "    a *= (a-1)\n",
        "print(a)    # 출력 값: 42\n",
        "\n",
        "for a in range(8):\n",
        "    a *= 1\n",
        "print(a)    # 출력 값: 1\n",
        "# 전역변수는 다음번에 초기화"
      ],
      "metadata": {
        "colab": {
          "base_uri": "https://localhost:8080/"
        },
        "id": "8r_3w3Xq_YTi",
        "outputId": "1adc4704-d6e2-4729-df2b-6e81330a7fd1"
      },
      "execution_count": 110,
      "outputs": [
        {
          "output_type": "stream",
          "name": "stdout",
          "text": [
            "42\n",
            "7\n"
          ]
        }
      ]
    },
    {
      "cell_type": "code",
      "source": [
        "test = '5'\n",
        "\n",
        "for i in range(int(test)):\n",
        "    print(\"안녕하세요\")"
      ],
      "metadata": {
        "colab": {
          "base_uri": "https://localhost:8080/"
        },
        "id": "CDWZtEFaAyyE",
        "outputId": "069bad93-a365-4e06-f0d8-a11734e653b4"
      },
      "execution_count": 117,
      "outputs": [
        {
          "output_type": "stream",
          "name": "stdout",
          "text": [
            "안녕하세요\n",
            "안녕하세요\n",
            "안녕하세요\n",
            "안녕하세요\n",
            "안녕하세요\n"
          ]
        }
      ]
    },
    {
      "cell_type": "code",
      "source": [
        "list1 = [1,2]\n",
        "list2 = [3,4]\n",
        "\n",
        "for i in list1:\n",
        "    for j in list2:\n",
        "        result = i + j\n",
        "\n",
        "print(result)"
      ],
      "metadata": {
        "colab": {
          "base_uri": "https://localhost:8080/"
        },
        "id": "TJZZUme9CLPh",
        "outputId": "7f2e53fc-0b45-4fdd-e950-440ecfebe681"
      },
      "execution_count": 115,
      "outputs": [
        {
          "output_type": "stream",
          "name": "stdout",
          "text": [
            "6\n"
          ]
        }
      ]
    },
    {
      "cell_type": "code",
      "source": [
        "list1 = [1,2]\n",
        "list2 = [3,4]\n",
        "result = []\n",
        "for i in list1:\n",
        "    for j in list2:\n",
        "        result.append(i + j)\n",
        "\n",
        "print(result)"
      ],
      "metadata": {
        "colab": {
          "base_uri": "https://localhost:8080/"
        },
        "id": "oF80kw8gCxJC",
        "outputId": "13d725f7-968a-4971-cdea-dd959d88feaf"
      },
      "execution_count": 118,
      "outputs": [
        {
          "output_type": "stream",
          "name": "stdout",
          "text": [
            "[4, 5, 5, 6]\n"
          ]
        }
      ]
    },
    {
      "cell_type": "markdown",
      "source": [
        "# while 문\n",
        "\n",
        "조건이 참인 동안에 계속 반복됨\n",
        "\n",
        "문제를 맞출때까지 반복을 해야 하는 경우\n",
        "ex) 비밀번호\n",
        "\n",
        "```\n",
        "while 구문:\n",
        "    수행할 문장\n",
        "\n",
        "```"
      ],
      "metadata": {
        "id": "NOx_lSv1D1-G"
      }
    },
    {
      "cell_type": "code",
      "source": [
        "# 기본 예제\n",
        "\n",
        "a = 1\n",
        "while a < 10:\n",
        "    a += 1\n",
        "\n",
        "print(a)"
      ],
      "metadata": {
        "colab": {
          "base_uri": "https://localhost:8080/"
        },
        "id": "FkJtyf8JDV_8",
        "outputId": "68530cc1-36f2-43be-c9ba-c8341e80e24b"
      },
      "execution_count": 121,
      "outputs": [
        {
          "output_type": "stream",
          "name": "stdout",
          "text": [
            "10\n"
          ]
        }
      ]
    },
    {
      "cell_type": "code",
      "source": [
        "# while 문을 사용하여 로또 번호 만들기\n",
        "import random\n",
        "\n",
        "a = 1\n",
        "lotto = []\n",
        "while len(lotto) < 6:\n",
        "    numbers = lotto.append(random.choice(range(1, 46)))\n",
        "\n",
        "    if numbers not in lotto:\n",
        "        lotto.append(numbers)\n",
        "        a += 1\n",
        "\n",
        "print(lotto)"
      ],
      "metadata": {
        "colab": {
          "base_uri": "https://localhost:8080/"
        },
        "id": "UWiCDMGfEbHy",
        "outputId": "f300a62e-662a-4f03-b98a-049b996a19df"
      },
      "execution_count": 138,
      "outputs": [
        {
          "output_type": "stream",
          "name": "stdout",
          "text": [
            "[18, None, 15, 25, 11, 30]\n"
          ]
        }
      ]
    },
    {
      "cell_type": "code",
      "source": [
        "import random\n",
        "answer = random.randint(1, 100)\n",
        "while True:\n",
        "    user_input = int((input(\"숫자를 입력하세요: \")))\n",
        "\n",
        "    if user_input > answer:\n",
        "        print(\"Down\")\n",
        "    elif user_input < answer:\n",
        "        print(\"Up\")\n",
        "    else:\n",
        "        print(\"정답입니다.\")\n",
        "        break"
      ],
      "metadata": {
        "colab": {
          "base_uri": "https://localhost:8080/"
        },
        "id": "i7g0IPJLF3Bg",
        "outputId": "7fcfa8c4-d979-4faa-c853-b0b323681e4f"
      },
      "execution_count": 141,
      "outputs": [
        {
          "output_type": "stream",
          "name": "stdout",
          "text": [
            "숫자를 입력하세요: 12\n",
            "Up\n",
            "숫자를 입력하세요: 56\n",
            "Down\n",
            "숫자를 입력하세요: 30\n",
            "Up\n",
            "숫자를 입력하세요: 40\n",
            "Up\n",
            "숫자를 입력하세요: 50\n",
            "Down\n",
            "숫자를 입력하세요: 46\n",
            "Down\n",
            "숫자를 입력하세요: 45\n",
            "Down\n",
            "숫자를 입력하세요: 44\n",
            "Down\n",
            "숫자를 입력하세요: 42\n",
            "정답입니다.\n"
          ]
        }
      ]
    },
    {
      "cell_type": "code",
      "source": [
        "# while 문을 이용한 구구단\n",
        "i = 2\n",
        "while i < 10:\n",
        "    j = 1\n",
        "    while j < 10:\n",
        "        print(f\"{i} x {j} = {i*j}\")\n",
        "        j += 1\n",
        "    i += 1"
      ],
      "metadata": {
        "colab": {
          "base_uri": "https://localhost:8080/"
        },
        "id": "UgQvHm_gKx-9",
        "outputId": "18e30c2d-3b76-4afe-91cb-0772cfb77e7b"
      },
      "execution_count": 143,
      "outputs": [
        {
          "output_type": "stream",
          "name": "stdout",
          "text": [
            "2 x 1 = 2\n",
            "2 x 2 = 4\n",
            "2 x 3 = 6\n",
            "2 x 4 = 8\n",
            "2 x 5 = 10\n",
            "2 x 6 = 12\n",
            "2 x 7 = 14\n",
            "2 x 8 = 16\n",
            "2 x 9 = 18\n",
            "3 x 1 = 3\n",
            "3 x 2 = 6\n",
            "3 x 3 = 9\n",
            "3 x 4 = 12\n",
            "3 x 5 = 15\n",
            "3 x 6 = 18\n",
            "3 x 7 = 21\n",
            "3 x 8 = 24\n",
            "3 x 9 = 27\n",
            "4 x 1 = 4\n",
            "4 x 2 = 8\n",
            "4 x 3 = 12\n",
            "4 x 4 = 16\n",
            "4 x 5 = 20\n",
            "4 x 6 = 24\n",
            "4 x 7 = 28\n",
            "4 x 8 = 32\n",
            "4 x 9 = 36\n",
            "5 x 1 = 5\n",
            "5 x 2 = 10\n",
            "5 x 3 = 15\n",
            "5 x 4 = 20\n",
            "5 x 5 = 25\n",
            "5 x 6 = 30\n",
            "5 x 7 = 35\n",
            "5 x 8 = 40\n",
            "5 x 9 = 45\n",
            "6 x 1 = 6\n",
            "6 x 2 = 12\n",
            "6 x 3 = 18\n",
            "6 x 4 = 24\n",
            "6 x 5 = 30\n",
            "6 x 6 = 36\n",
            "6 x 7 = 42\n",
            "6 x 8 = 48\n",
            "6 x 9 = 54\n",
            "7 x 1 = 7\n",
            "7 x 2 = 14\n",
            "7 x 3 = 21\n",
            "7 x 4 = 28\n",
            "7 x 5 = 35\n",
            "7 x 6 = 42\n",
            "7 x 7 = 49\n",
            "7 x 8 = 56\n",
            "7 x 9 = 63\n",
            "8 x 1 = 8\n",
            "8 x 2 = 16\n",
            "8 x 3 = 24\n",
            "8 x 4 = 32\n",
            "8 x 5 = 40\n",
            "8 x 6 = 48\n",
            "8 x 7 = 56\n",
            "8 x 8 = 64\n",
            "8 x 9 = 72\n",
            "9 x 1 = 9\n",
            "9 x 2 = 18\n",
            "9 x 3 = 27\n",
            "9 x 4 = 36\n",
            "9 x 5 = 45\n",
            "9 x 6 = 54\n",
            "9 x 7 = 63\n",
            "9 x 8 = 72\n",
            "9 x 9 = 81\n"
          ]
        }
      ]
    },
    {
      "cell_type": "markdown",
      "source": [
        "# break, continue, pass\n",
        "\n",
        "break 문은 반복문(while, for)을 실행 중에 중단하고 나오기 위해 사용되는 명령어\n",
        "\n",
        "**주의해야 할 점은 이 break 구문은 바로 위의 반복문(for나 while)만 탈출**\n",
        "\n"
      ],
      "metadata": {
        "id": "mcbgQ01JMZg-"
      }
    },
    {
      "cell_type": "code",
      "source": [
        "x = 0\n",
        "l = []\n",
        "while x < 10:\n",
        "    if x == 5:\n",
        "        break\n",
        "    x += 1\n",
        "    l.append(x)\n",
        "\n",
        "print(l)"
      ],
      "metadata": {
        "colab": {
          "base_uri": "https://localhost:8080/"
        },
        "id": "4aGdTC7qL4mm",
        "outputId": "26f79b42-9ded-4298-dd67-cd722b2b3ec7"
      },
      "execution_count": 146,
      "outputs": [
        {
          "output_type": "stream",
          "name": "stdout",
          "text": [
            "[1, 2, 3, 4, 5]\n"
          ]
        }
      ]
    },
    {
      "cell_type": "code",
      "source": [
        "x = 0\n",
        "l = []\n",
        "while x < 10:\n",
        "    x += 1\n",
        "    if x == 5:\n",
        "        continue\n",
        "    l.append(x)\n",
        "\n",
        "# x += 1를 컨티뉴 밑에 쓰면 오류. 왜 그럴까?\n",
        "\n",
        "print(l)"
      ],
      "metadata": {
        "colab": {
          "base_uri": "https://localhost:8080/"
        },
        "id": "RnsmolfnNAkw",
        "outputId": "bee72bd4-1302-437c-9a36-2d961bf4316e"
      },
      "execution_count": 150,
      "outputs": [
        {
          "output_type": "stream",
          "name": "stdout",
          "text": [
            "[1, 2, 3, 4, 6, 7, 8, 9, 10]\n"
          ]
        }
      ]
    },
    {
      "cell_type": "code",
      "source": [
        "x = 0\n",
        "l = []\n",
        "while x < 10:\n",
        "    x += 1\n",
        "    if x == 5:\n",
        "        continue\n",
        "    l.append(x)\n",
        "\n",
        "# x += 1를 컨티뉴 밑에 쓰면 오류. 왜 그럴까?\n",
        "# contiue를 쓰면 다시 처음으로 올라감 따라서 5에서 멈추게 됨\n",
        "\n",
        "print(l)"
      ],
      "metadata": {
        "colab": {
          "base_uri": "https://localhost:8080/"
        },
        "id": "wp5CLQqMO1pz",
        "outputId": "ce842cf4-5bab-4ed2-b5c3-d78a75ef82f8"
      },
      "execution_count": 153,
      "outputs": [
        {
          "output_type": "stream",
          "name": "stdout",
          "text": [
            "[1, 2, 3, 4, 6, 7, 8, 9, 10]\n"
          ]
        }
      ]
    },
    {
      "cell_type": "markdown",
      "source": [
        "이 코드에서 x += 1 문장이 continue 문장 위에 있어야 하는 이유는 continue 문장이 작동하는 방식 때문입니다.\n",
        "\n",
        "continue 문장은 루프의 현재 반복을 건너뛰고 루프의 시작점으로 돌아갑니다. 즉, continue 문장 이후의 코드는 실행되지 않습니다.\n",
        "\n",
        "원래 코드에서는 x가 5일 때 continue 문장이 실행됩니다. 이때 x는 5로 남아 있고, x += 1 문장은 실행되지 않습니다. 따라서 x는 5로 남아 있게 됩니다. 그리고 루프는 다시 시작점으로 돌아가게 됩니다. 하지만 x는 여전히 5이므로 if x == 5 조건이 참이 됩니다. 다시 continue 문장이 실행됩니다. 이러한 경우에 무한 루프가 발생하게 됩니다.\n",
        "\n",
        "반면에 x += 1 문장을 continue 문장 위에 두면 x는 5일 때 6으로 증가하게 됩니다. 그리고 continue 문장이 실행됩니다. 이때 x는 6이므로 if x == 5 조건이 거짓이 됩니다. 따라서 루프는 정상적으로 진행됩니다.\n",
        "\n",
        "따라서 x += 1 문장을 continue 문장 위에 두는 것이 중요합니다. 이를 통해 x의 값을 올바르게 증가시키고 루프를 정상적으로 진행할 수 있습니다."
      ],
      "metadata": {
        "id": "wMeAVzVHPSrR"
      }
    },
    {
      "cell_type": "code",
      "source": [
        "x = 0\n",
        "l = []\n",
        "while x < 10:\n",
        "    x += 1\n",
        "    if x == 5:\n",
        "        pass\n",
        "    l.append(x)\n",
        "\n",
        "print(l)    # 출력 값: [1, 2, 3, 4, 5, 6, 7, 8, 9, 10]\n",
        "\n",
        "# continue와 pass가 다른 점\n"
      ],
      "metadata": {
        "colab": {
          "base_uri": "https://localhost:8080/"
        },
        "id": "CjMVTkhFOLEt",
        "outputId": "7151cadc-0838-45da-9e3d-1cb4faf39fd2"
      },
      "execution_count": 151,
      "outputs": [
        {
          "output_type": "stream",
          "name": "stdout",
          "text": [
            "[1, 2, 3, 4, 5, 6, 7, 8, 9, 10]\n"
          ]
        }
      ]
    },
    {
      "cell_type": "markdown",
      "source": [
        "# 반복문 else\n",
        "\n",
        "반복문 else: '그런 다음'의 의미\n",
        "\n",
        "```\n",
        "for 변수 in 범위:\n",
        "    반복 실행할 코드\n",
        "else:\n",
        "    반복문이 모두 실행되어 종료되고 실행할 코드\n",
        "```"
      ],
      "metadata": {
        "id": "V6Kc6SHLQj-i"
      }
    },
    {
      "cell_type": "code",
      "source": [
        "for i in range(100):\n",
        "    print(f'{i} 물고기를 잡았습니다.')\n",
        "    if i == 5:\n",
        "        print('만선입니다. 물고기를 다 잡았습니다.')\n",
        "        break\n",
        "else:\n",
        "    print('아직 여유가 좀 있지만, 물고기가 더 없는 것 같으니 이정도로 만족하고 돌아갑시다.')\n",
        "\n",
        "print('수고하셨습니다.')"
      ],
      "metadata": {
        "colab": {
          "base_uri": "https://localhost:8080/"
        },
        "id": "r78OKhIAQjs4",
        "outputId": "eabf006a-601b-4822-eb0b-ba2b2de3dbc2"
      },
      "execution_count": 154,
      "outputs": [
        {
          "output_type": "stream",
          "name": "stdout",
          "text": [
            "0 물고기를 잡았습니다.\n",
            "1 물고기를 잡았습니다.\n",
            "2 물고기를 잡았습니다.\n",
            "3 물고기를 잡았습니다.\n",
            "4 물고기를 잡았습니다.\n",
            "5 물고기를 잡았습니다.\n",
            "만선입니다. 물고기를 다 잡았습니다.\n",
            "수고하셨습니다.\n"
          ]
        }
      ]
    },
    {
      "cell_type": "code",
      "source": [
        "for i in range(5):\n",
        "    print(f'{i} 물고기를 잡았습니다.')\n",
        "    if i == 5:\n",
        "        print('만선입니다. 물고기를 다 잡았습니다.')\n",
        "        break\n",
        "else:\n",
        "    print('아직 여유가 좀 있지만, 물고기가 더 없는 것 같으니 이정도로 만족하고 돌아갑시다.')\n",
        "\n",
        "print('수고하셨습니다.')\n",
        "\n",
        "# 반복문에서 if 조건문에 도달하지 못한다면 else 출력"
      ],
      "metadata": {
        "colab": {
          "base_uri": "https://localhost:8080/"
        },
        "id": "GsQlwx-JOQ7k",
        "outputId": "7d198791-e015-4a70-ac5f-8c0a83216ae8"
      },
      "execution_count": 157,
      "outputs": [
        {
          "output_type": "stream",
          "name": "stdout",
          "text": [
            "0 물고기를 잡았습니다.\n",
            "1 물고기를 잡았습니다.\n",
            "2 물고기를 잡았습니다.\n",
            "3 물고기를 잡았습니다.\n",
            "4 물고기를 잡았습니다.\n",
            "아직 여유가 좀 있지만, 물고기가 더 없는 것 같으니 이정도로 만족하고 돌아갑시다.\n",
            "수고하셨습니다.\n"
          ]
        }
      ]
    },
    {
      "cell_type": "code",
      "source": [
        "n = 0\n",
        "while n < 5:\n",
        "    n += 1\n",
        "    print(f'{n}번째 실행되고 있습니다.')\n",
        "    if n == 3:\n",
        "        break\n",
        "else:\n",
        "    print('반복문이 종료되었습니다.')\n",
        "# 정상적으로 종료되지 않아 else문이 실행되지 않음"
      ],
      "metadata": {
        "colab": {
          "base_uri": "https://localhost:8080/"
        },
        "id": "ScHSmOIVRPmW",
        "outputId": "b8dd383d-8cdc-4822-c725-7169f829ead5"
      },
      "execution_count": 161,
      "outputs": [
        {
          "output_type": "stream",
          "name": "stdout",
          "text": [
            "1번째 실행되고 있습니다.\n",
            "2번째 실행되고 있습니다.\n",
            "3번째 실행되고 있습니다.\n"
          ]
        }
      ]
    },
    {
      "cell_type": "code",
      "source": [],
      "metadata": {
        "id": "PeXnKgy7SzJ-"
      },
      "execution_count": null,
      "outputs": []
    }
  ]
}