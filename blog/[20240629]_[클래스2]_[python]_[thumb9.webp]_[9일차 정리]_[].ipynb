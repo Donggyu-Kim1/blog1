{
  "nbformat": 4,
  "nbformat_minor": 0,
  "metadata": {
    "colab": {
      "provenance": [],
      "toc_visible": true
    },
    "kernelspec": {
      "name": "python3",
      "display_name": "Python 3"
    },
    "language_info": {
      "name": "python"
    }
  },
  "cells": [
    {
      "cell_type": "markdown",
      "source": [
        "# 오늘의 상식\n",
        "\n",
        "클라우드AI를 활용하여 페이지 인터렉티브까지 구현 가능"
      ],
      "metadata": {
        "id": "xwLy_kM-pDR6"
      }
    },
    {
      "cell_type": "markdown",
      "source": [
        "# 객체지향 프로그래밍\n",
        "\n",
        "- 객체(Object): 객체는 데이터(속성)와 그 데이터를 처리하는 방법(메서드)을 하나로 묶은 것\n",
        "\n",
        "- 클래스(Class): 클래스는 객체를 만들기 위한 '틀' 또는 '설계도'"
      ],
      "metadata": {
        "id": "G-c9J3O6r-LZ"
      }
    },
    {
      "cell_type": "code",
      "source": [
        "class Car:\n",
        "    def __init__(self, color, model):   # 초기 값, 생성자\n",
        "        self.color = color\n",
        "        self.model = model\n",
        "        self.speed = 0\n",
        "\n",
        "    def accelerate(self, speed_increase):   # class 안의 함수는 '메서드'\n",
        "        self.speed += speed_increase\n",
        "\n",
        "    def brake(self, speed_decrease):\n",
        "        self.speed = max(0, self.speed - speed_decrease)\n",
        "\n",
        "    def get_info(self):\n",
        "        return f\"{self.color} {self.model}, 현재 속도: {self.speed}km/h\""
      ],
      "metadata": {
        "id": "BfFn3x7Qqpjy"
      },
      "execution_count": 5,
      "outputs": []
    },
    {
      "cell_type": "markdown",
      "source": [
        "- 인스턴스(Instance): 클래스를 바탕으로 실제로 만들어진 객체"
      ],
      "metadata": {
        "id": "kL2Uo4RvtQVH"
      }
    },
    {
      "cell_type": "code",
      "source": [
        "my_car = Car(\"빨간\", \"스포츠카\")\n",
        "your_car = Car(\"파란\", \"세단\")\n",
        "\n",
        "print(my_car.get_info())  # 출력: 빨간 스포츠카, 현재 속도: 0km/h\n",
        "my_car.accelerate(30)\n",
        "print(my_car.get_info())  # 출력: 빨간 스포츠카, 현재 속도: 30km/h\n",
        "\n",
        "print(your_car.get_info())  # 출력: 파란 세단, 현재 속도: 0km/h"
      ],
      "metadata": {
        "colab": {
          "base_uri": "https://localhost:8080/"
        },
        "id": "qn4sk8T9tLvA",
        "outputId": "4d05b5a5-b4bc-4c97-a3a1-29005d28da4a"
      },
      "execution_count": 4,
      "outputs": [
        {
          "output_type": "stream",
          "name": "stdout",
          "text": [
            "빨간 스포츠카, 현재 속도: 0km/h\n",
            "빨간 스포츠카, 현재 속도: 30km/h\n",
            "파란 세단, 현재 속도: 0km/h\n"
          ]
        }
      ]
    },
    {
      "cell_type": "markdown",
      "source": [
        "OOP의 4가지 핵심 원칙\n",
        "\n",
        "- 캡슐화 (Encapsulation): 데이터(속성)와 그 데이터를 처리하는 메서드를 하나로 묶는 것\n",
        "- 상속 (Inheritance): 한 클래스가 다른 클래스의 속성과 메서드를 물려받는 것\n",
        "    - 메서드 오버라이딩(Method Overriding): 상속 받은 것을 재정의\n",
        "- 다형성 (Polymorphism): 같은 이름의 메서드가 다른 클래스에서 다르게 동작할 수 있는 능력\n",
        "- 추상화 (Abstraction): 복잡한 시스템을 단순화하여 필요한 핵심 기능만을 표현하는 것"
      ],
      "metadata": {
        "id": "Shc8ocvct-Bm"
      }
    },
    {
      "cell_type": "code",
      "source": [
        "# 동물들에 대한 이름, 동물의 타입, 배고픔 행복도\n",
        "# 다마고치 프로그램\n",
        "\n",
        "class VIrtualpet:\n",
        "    def __init__(self, name, animal_type): # __init__ 생성자\n",
        "        self.name = name\n",
        "        self.animal_type = animal_type\n",
        "        self.hunger = 50\n",
        "        self.happiness = 5\n",
        "        self.energy = 50\n",
        "\n",
        "    def feed(self):\n",
        "        self.hunger -= 10\n",
        "        self.happiness += 5\n",
        "        return f\"{self.name}이(가) 먹었습니다.\"\n",
        "\n",
        "    def play(self):\n",
        "        self.hunger += 5\n",
        "        self.happiness += 10\n",
        "        return f\"{self.name}이(가) 놀았습니다.\"\n",
        "\n",
        "    def brush(self):\n",
        "        self.energy -= 5\n",
        "        self.happiness += 15\n",
        "        return f\"{self.name}이(가) 빗질을 하여 5의 에너지가 소모되고 행복도가 15 올랐습니다.\"\n",
        "\n",
        "    def status(self):\n",
        "        return f\"이름: {self.name}, 동물 타입: {self.animal_type}, 배고픔: {self.hunger}, 행복도: {self.happiness}\""
      ],
      "metadata": {
        "id": "-TWv8EUbtZZi"
      },
      "execution_count": 11,
      "outputs": []
    },
    {
      "cell_type": "code",
      "source": [
        "class Quizgame:\n",
        "    # 문제와 답이 있고, 미리 정해진 답을 유저가 맞추면 득점, 틀리면 실점 / 점수 부여x\n",
        "    def __init__(self):\n",
        "        # 초기에 외부에서 정보를 받아오지 않음\n",
        "        self._question = {\n",
        "            '오늘은 무슨 요일입니까?': '월요일',\n",
        "            '갤럭시 s를 만든 회사는 어디입니까?': '삼성전자',\n",
        "            '6월 6일은 어떤 날입니까?': '현충일',\n",
        "        }\n",
        "        self._score = 0\n",
        "\n",
        "    def play(self):\n",
        "        for question, answer in self._question.items():\n",
        "            user_answer = input(question + ' : ')\n",
        "            if user_answer == answer:\n",
        "                self._score += 1\n",
        "                print('정답!')\n",
        "            else:\n",
        "                print('틀렸습니다!')\n",
        "        print(f\"점수: {self._score}점 입니다.\")\n",
        "\n",
        "    def add_question(self, question, answer):\n",
        "        if question not in self._question:\n",
        "            self._question[question] = answer\n",
        "            print('질문이 추가되었습니다.')\n",
        "        else:\n",
        "            print('이미 존재하는 질문입니다.')\n",
        "\n",
        "game = Quizgame()\n",
        "game.add_question('오늘은 어떤 요일입니까?', '월요일')"
      ],
      "metadata": {
        "colab": {
          "base_uri": "https://localhost:8080/"
        },
        "id": "4Dw9KV3o2Ca7",
        "outputId": "675a0f23-de24-4365-cc8f-6b6cf36e0752"
      },
      "execution_count": 14,
      "outputs": [
        {
          "output_type": "stream",
          "name": "stdout",
          "text": [
            "질문이 추가되었습니다.\n"
          ]
        }
      ]
    },
    {
      "cell_type": "markdown",
      "source": [
        "간단한 RPG 게임"
      ],
      "metadata": {
        "id": "N-oWI53_HZde"
      }
    },
    {
      "cell_type": "code",
      "source": [
        "class Character:\n",
        "    def __init__(self, name, hp, mp, atk, level):\n",
        "        self.name = name\n",
        "        self.hp = hp\n",
        "        self.mp = mp\n",
        "        self.atk = atk\n",
        "        self.level = level\n",
        "        self.exp = 0\n",
        "\n",
        "    def attack_enemy(self, enemy):\n",
        "        enemy.hp = 10\n",
        "        enemy.hp -= self.atk\n",
        "        print(f\"{self.name}이(가) {enemy.name}을(를) 공격했습니다.\")\n",
        "        if enemy.hp <= 0:\n",
        "            print(f\"{enemy.name}이(가) 죽었습니다.\")\n",
        "            self.exp += 10\n",
        "            print(f\"{self.name}이(가) {self.exp}의 경험치를 획득했습니다.\")\n",
        "\n",
        "    def level_up(self):\n",
        "        if self.exp >= 100:\n",
        "            self.level += 1\n",
        "            self.hp += 10\n",
        "            self.mp += 10\n",
        "            self.atk += 5\n",
        "            self.skill += 10\n",
        "            print(\"레벨업! hp, mp는 10만큼 상승하고 공격력은 5, 스킬공격은 10 상승힙니다.\")\n",
        "\n",
        "    def show_status(self):\n",
        "        return f\"이름: {self.name}, 체력: {self.hp}, 마나: {self.mp}, 공격력: {self.atk}\"\n",
        "\n",
        "class Hero(Character):\n",
        "    def __init__(self, name, hp, mp, atk, level, skill):\n",
        "        super().__init__(name, hp, mp, atk, level) # super(): 부모 클래스 값 불러오기\n",
        "        self.skill = skill\n",
        "\n",
        "    def show_status(self):\n",
        "        return f\"이름: {self.name}, 체력: {self.hp}, 마나: {self.mp}, 공격력: {self.atk}, 레벨: {self.level} 스킬: {self.skill}\"\n",
        "\n",
        "kim = Hero(\"영웅\", 100, 100, 10, 5, 20)\n",
        "print(kim.show_status())"
      ],
      "metadata": {
        "colab": {
          "base_uri": "https://localhost:8080/"
        },
        "id": "5thw8ByPDDrL",
        "outputId": "c1773dc7-0788-415f-dd70-253e32401f15"
      },
      "execution_count": 35,
      "outputs": [
        {
          "output_type": "stream",
          "name": "stdout",
          "text": [
            "이름: 영웅, 체력: 100, 마나: 100, 공격력: 10, 레벨: 5 스킬: 20\n"
          ]
        }
      ]
    },
    {
      "cell_type": "code",
      "source": [
        "def 시각적_상태_생성(캐릭터):\n",
        "    체력_바 = '█' * int(캐릭터.hp / 10)\n",
        "    마나_바 = '█' * int(캐릭터.mp / 10)\n",
        "    경험치_바 = '█' * int(캐릭터.exp / 10)\n",
        "    경험치_빈칸 = '░' * (10 - int(캐릭터.exp / 10))\n",
        "\n",
        "    상태 = f\"\"\"\n",
        "+------------------------------------+\n",
        "|               캐릭터                |\n",
        "+------------------------------------+\n",
        "|  이름: {캐릭터.name:<27}|\n",
        "+------------------------------------+\n",
        "|  체력: {체력_바:<12} {캐릭터.hp}/100         |\n",
        "|  마나: {마나_바:<12} {캐릭터.mp}/100         |\n",
        "+------------------------------------+\n",
        "|  공격력: {캐릭터.atk:<24}   |\n",
        "|  레벨: {캐릭터.level:<25}    |\n",
        "|  스킬: {캐릭터.skill:<25}    |\n",
        "+------------------------------------+\n",
        "|  경험치: {경험치_바}{경험치_빈칸} {캐릭터.exp}/100           |\n",
        "+------------------------------------+\n",
        "\"\"\"\n",
        "    return 상태\n",
        "\n",
        "# 사용 예시\n",
        "kim = Hero(\"영웅\", 100, 100, 10, 5, 20)\n",
        "print(시각적_상태_생성(kim))"
      ],
      "metadata": {
        "colab": {
          "base_uri": "https://localhost:8080/"
        },
        "id": "L-X3qPvDJDj5",
        "outputId": "eae0fe4a-6946-472a-887b-c2d3d851450c"
      },
      "execution_count": 39,
      "outputs": [
        {
          "output_type": "stream",
          "name": "stdout",
          "text": [
            "\n",
            "+------------------------------------+\n",
            "|               캐릭터                |\n",
            "+------------------------------------+\n",
            "|  이름: 영웅                         |\n",
            "+------------------------------------+\n",
            "|  체력: ██████████   100/100         |\n",
            "|  마나: ██████████   100/100         |\n",
            "+------------------------------------+\n",
            "|  공격력: 10                         |\n",
            "|  레벨: 5                            |\n",
            "|  스킬: 20                           |\n",
            "+------------------------------------+\n",
            "|  경험치: ░░░░░░░░░░ 0/100           |\n",
            "+------------------------------------+\n",
            "\n"
          ]
        }
      ]
    },
    {
      "cell_type": "markdown",
      "source": [
        "# 정적 메서드, 클래스 메서드\n",
        "\n",
        "- 정적 메서드(Static Method): 클래스나 인스턴스의 상태와 관계없이 **독립적으로 동작하는 메서드**\n",
        "    - 독립적인 기능을 구현할 때 사용\n",
        "    - @staticmethod 데코레이터를 사용\n",
        "- 클래스 메서드(Class Method): 클래스 전체에 대한 동작을 정의하는 메서드로, **클래스 자체를 첫 번째 인자로 받음(cls)**\n",
        "    - 첫 번째 인자로 클래스 자체를 받음 (관례상 `cls`로 명명).\n",
        "    - 인스턴스를 생성하지 않고도 클래스 레벨에서 호출 가능\n",
        "    - 주로 대체 생성자를 만들거나 **클래스 전체에 영향을 미치는 메서드**를 정의할 때 사용\n",
        "    - @classmethod 데코레이터를 사용"
      ],
      "metadata": {
        "id": "boYQXBWXXHr8"
      }
    },
    {
      "cell_type": "code",
      "source": [
        "class MyClass:\n",
        "    class_variable = 0\n",
        "\n",
        "    def __init__(self, value):\n",
        "        self.instance_variable = value\n",
        "\n",
        "    @staticmethod\n",
        "    def static_method():\n",
        "\t\t# 클래스나 인스턴스 상태와 무관한 작업 수행\n",
        "        return \"이것은 정적 메서드입니다.\"\n",
        "\n",
        "    @classmethod\n",
        "    def class_method(cls):  # cls를 받음\n",
        "\t\t# 클래스 변수 접근 및 수정\n",
        "        cls.class_variable += 1\n",
        "        return f\"클래스 변수 값: {cls.class_variable}\"\n",
        "\n",
        "    def instance_method(self):\n",
        "\t\t# 인스턴스 변수 접근\n",
        "        return f\"인스턴스 변수 값: {self.instance_variable}\"\n",
        "\n",
        "# 사용 예\n",
        "print(MyClass.static_method())# 인스턴스 생성 없이 호출 가능\n",
        "print(MyClass.class_method())# 인스턴스 생성 없이 호출 가능\n",
        "\n",
        "instance = MyClass(5)\n",
        "print(instance.instance_method())# 인스턴스 메서드는 인스턴스를 통해 호출"
      ],
      "metadata": {
        "colab": {
          "base_uri": "https://localhost:8080/"
        },
        "id": "pkhaNxg3ID29",
        "outputId": "3d5cb8f3-e297-428c-b55a-8690635955fb"
      },
      "execution_count": 31,
      "outputs": [
        {
          "output_type": "stream",
          "name": "stdout",
          "text": [
            "이것은 정적 메서드입니다.\n",
            "클래스 변수 값: 1\n",
            "인스턴스 변수 값: 5\n"
          ]
        }
      ]
    },
    {
      "cell_type": "markdown",
      "source": [
        "정적, 클래스 데코레이션 예시 정리"
      ],
      "metadata": {
        "id": "H87siFBlyV4V"
      }
    },
    {
      "cell_type": "code",
      "source": [
        "class Student:\n",
        "    school_name = \"파이썬 고등학교\"  # 클래스 변수\n",
        "\n",
        "    def __init__(self, name, grade):\n",
        "        self.name = name\n",
        "        self.grade = grade\n",
        "        self.scores = []\n",
        "\n",
        "    def add_score(self, subject, score):\n",
        "        self.scores.append({\"subject\": subject, \"score\": score})\n",
        "\n",
        "    def get_average(self):\n",
        "        if not self.scores:\n",
        "            return 0\n",
        "        return sum(item[\"score\"] for item in self.scores) / len(self.scores)\n",
        "\n",
        "    @staticmethod\n",
        "    def grade_to_letter(score):\n",
        "        if score >= 90:\n",
        "            return 'A'\n",
        "        elif score >= 80:\n",
        "            return 'B'\n",
        "        elif score >= 70:\n",
        "            return 'C'\n",
        "        elif score >= 60:\n",
        "            return 'D'\n",
        "        else:\n",
        "            return 'F'\n",
        "\n",
        "    @classmethod\n",
        "    def change_school_name(cls, new_name):\n",
        "        cls.school_name = new_name\n",
        "        print(f\"학교 이름이 {new_name}으로 변경되었습니다.\")\n",
        "\n",
        "# 사용 예시\n",
        "student1 = Student(\"Alice\", 10)\n",
        "student1.add_score(\"수학\", 85)\n",
        "student1.add_score(\"영어\", 92)\n",
        "\n",
        "print(f\"{student1.name}의 평균 점수: {student1.get_average()}\")\n",
        "print(f\"등급: {Student.grade_to_letter(student1.get_average())}\")\n",
        "\n",
        "print(f\"현재 학교 이름: {Student.school_name}\")\n",
        "Student.change_school_name(\"파이썬 과학 고등학교\")\n",
        "print(f\"변경된 학교 이름: {Student.school_name}\")"
      ],
      "metadata": {
        "colab": {
          "base_uri": "https://localhost:8080/"
        },
        "id": "7ncxtETLX_5O",
        "outputId": "2c04822c-15ee-4641-af19-33d2b11f57ad"
      },
      "execution_count": 32,
      "outputs": [
        {
          "output_type": "stream",
          "name": "stdout",
          "text": [
            "Alice의 평균 점수: 88.5\n",
            "등급: B\n",
            "현재 학교 이름: 파이썬 고등학교\n",
            "학교 이름이 파이썬 과학 고등학교으로 변경되었습니다.\n",
            "변경된 학교 이름: 파이썬 과학 고등학교\n"
          ]
        }
      ]
    },
    {
      "cell_type": "markdown",
      "source": [
        "# 추상 클래스, 비공개 클래스"
      ],
      "metadata": {
        "id": "AX5yiuW68JSa"
      }
    },
    {
      "cell_type": "markdown",
      "source": [
        "추상 클래스"
      ],
      "metadata": {
        "id": "73YjCRUx1v68"
      }
    },
    {
      "cell_type": "code",
      "source": [
        "from abc import ABC, abstractmethod # 추상 클래스 불러오기\n",
        "\n",
        "class Animal(ABC):\n",
        "    def __init__(self, name):\n",
        "        self.name = name\n",
        "\n",
        "    @abstractmethod\n",
        "    def make_sound(self):\n",
        "        pass    # 강제적으로 구현하기 위한 용도\n",
        "\n",
        "    def introduce(self):\n",
        "        print(f\"저는 {self.name}입니다.\")\n",
        "        self.make_sound()\n",
        "\n",
        "class Dog(Animal):\n",
        "    def make_sound(self):   # 자식 메서드에서 구현\n",
        "        print(\"멍멍!\")\n",
        "\n",
        "class Cat(Animal):\n",
        "    def make_sound(self):\n",
        "        print(\"야옹~\")\n",
        "\n",
        "# 사용 예\n",
        "dog = Dog(\"바둑이\")\n",
        "cat = Cat(\"나비\")\n",
        "\n",
        "dog.introduce()  # 출력: 저는 바둑이입니다. 멍멍!\n",
        "cat.introduce()  # 출력: 저는 나비입니다. 야옹~"
      ],
      "metadata": {
        "colab": {
          "base_uri": "https://localhost:8080/"
        },
        "id": "GkhbNF15ymUT",
        "outputId": "afcf2fd1-c8d8-4842-f04b-0d8ac42e4738"
      },
      "execution_count": 33,
      "outputs": [
        {
          "output_type": "stream",
          "name": "stdout",
          "text": [
            "저는 바둑이입니다.\n",
            "멍멍!\n",
            "저는 나비입니다.\n",
            "야옹~\n"
          ]
        }
      ]
    },
    {
      "cell_type": "markdown",
      "source": [
        "비공개 클래스\n",
        "\n",
        "- 클래스 내부에서만 접근 가능하도록 의도된 속성\n",
        "- 예: `self.__private_var`\n",
        "- 네임 맹글링을 통해 외부에서의 직접 접근을 어렵게 함\n",
        "- 완전한 비공개는 아니며, `_ClassName__private_var` 형태로 여전히 접근 가능"
      ],
      "metadata": {
        "id": "Ax-DfMZx8CwJ"
      }
    },
    {
      "cell_type": "code",
      "source": [
        "class Example:\n",
        "    def __init__(self):\n",
        "        self.public = \"공개 속성\"\n",
        "        self._protected = \"보호 속성, 클래스 내부나 하위 클래스에서 사용 권장\"\n",
        "        self.__private = \"비공개 속성, 클래스 내부에서만 가능\"\n",
        "\n",
        "    def get_private(self):\n",
        "        return self.__private\n",
        "\n",
        "e = Example()\n",
        "print(e.public)  # 공개 속성 접근 가능\n",
        "print(e._protected)  # 보호 속성 접근 가능\n",
        "# print(e.__private)  # 비공개 속성 접근 불가\n",
        "\n",
        "print(e.get_private())  # 비공개 메서드 호출 가능\n",
        "print(e._Example__private)  # 네임 맹글링을 통한 접근(권장 X)"
      ],
      "metadata": {
        "colab": {
          "base_uri": "https://localhost:8080/"
        },
        "id": "O1s-Tn6E6Ej4",
        "outputId": "7a994b51-6345-47a9-bfb8-1aa636517970"
      },
      "execution_count": 34,
      "outputs": [
        {
          "output_type": "stream",
          "name": "stdout",
          "text": [
            "공개 속성\n",
            "보호 속성, 클래스 내부나 하위 클래스에서 사용 권장\n",
            "비공개 속성, 클래스 내부에서만 가능\n",
            "비공개 속성, 클래스 내부에서만 가능\n"
          ]
        }
      ]
    },
    {
      "cell_type": "markdown",
      "source": [],
      "metadata": {
        "id": "PUnNv63BAcCi"
      }
    },
    {
      "cell_type": "code",
      "source": [
        "class TV(object):\n",
        "  def __init__(self, size, year, company):\n",
        "    self.size = size\n",
        "    self.year = year\n",
        "    self.company = company\n",
        "\n",
        "  def describe(self):\n",
        "    print(self.company + \"에서 만든\" + self.year + \"년형\" + self.size + \"인치 TV\")\n",
        "\n",
        "class Laptop(TV):\n",
        "  def describe(self):\n",
        "    print(self.company + \"에서 만든\"  + self.year + \"년형\" + self.size + \"인치 노트북\")\n",
        "\n",
        "LG_TV = TV(\"32\", \"2022\", \"LG\")\n",
        "LG_TV.describe()\n",
        "\n",
        "samsung_microwave = Laptop(\"15\", \"2023\", \"Samsung\")\n",
        "samsung_microwave.describe()\n",
        "\n",
        "\n",
        "#1. LG에서 만든 2022년형15인치 TV\n",
        "#   Samsung에서 만든2023년형32인치 노트북\n",
        "\n",
        "#2. LG에서 만든 2022년형15인치 TV\n",
        "#   Samsung에서 만든 2023년형 15인치 노트북\n",
        "\n",
        "#3. LG에서 만든 2022년형 32인치 TV\n",
        "#   Samsung에서 만든 2023년형 32인치 노트북\n",
        "\n",
        "#4. LG에서 만든 2022년형 32인치 TV\n",
        "#   Samsung에서 만든 2023년형 15인치 노트북\n",
        "\n",
        "#5. LG에서 만든 2023년형 32인치 TV\n",
        "#   Samsung에서 만든 2022년형 15인치 노트북\n",
        "\n",
        "# 정답: 4번"
      ],
      "metadata": {
        "id": "h_vANlm4_gKW"
      },
      "execution_count": null,
      "outputs": []
    }
  ]
}