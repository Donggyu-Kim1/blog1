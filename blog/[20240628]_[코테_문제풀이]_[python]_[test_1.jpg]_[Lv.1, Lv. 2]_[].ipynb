{
  "cells": [
    {
      "cell_type": "markdown",
      "metadata": {
        "id": "hSvLyXWRkeXT"
      },
      "source": [
        "# 연습문제"
      ]
    },
    {
      "cell_type": "markdown",
      "metadata": {
        "id": "vG43L9RAhss-"
      },
      "source": [
        "## Lv. 1"
      ]
    },
    {
      "cell_type": "markdown",
      "metadata": {
        "id": "TL_BgNUUhw5G"
      },
      "source": [
        "1. 대문자와 소문자가 섞여있는 문자열 s가 주어집니다. s에 'p'의 개수와 'y'의 개수를 비교해 같으면 True, 다르면 False를 return 하는 solution를 완성하세요. 'p', 'y' 모두 하나도 없는 경우는 항상 True를 리턴합니다. 단, 개수를 비교할 때 대문자와 소문자는 구별하지 않습니다. 예를 들어 s가 \"pPoooyY\"면 true를 return하고 \"Pyy\"라면 false를 return합니다."
      ]
    },
    {
      "cell_type": "code",
      "execution_count": null,
      "metadata": {
        "id": "sfcWnr5ohy42"
      },
      "outputs": [],
      "source": [
        "def solution(s):\n",
        "    s1 = s.lower()\n",
        "    numbers_p = s1.count(\"p\")\n",
        "    numbers_y = s1.count(\"y\")\n",
        "    if numbers_p == numbers_y:\n",
        "        return True\n",
        "    else:\n",
        "        return False\n",
        "\n",
        "# 한번에 정답"
      ]
    },
    {
      "cell_type": "markdown",
      "metadata": {
        "id": "ZfBQwtfsjnff"
      },
      "source": [
        "2. 문자열 s를 숫자로 변환한 결과를 반환하는 함수, solution을 완성하세요."
      ]
    },
    {
      "cell_type": "code",
      "execution_count": null,
      "metadata": {
        "id": "3rB-SNISkYWs"
      },
      "outputs": [],
      "source": [
        "def solution(s):\n",
        "    numbers = int(s)\n",
        "    return numbers\n",
        "\n",
        "# 한번에 정답"
      ]
    },
    {
      "cell_type": "markdown",
      "metadata": {
        "id": "zs2h7jBAkdds"
      },
      "source": [
        "3. 자연수 N이 주어지면, N의 각 자릿수의 합을 구해서 return 하는 solution 함수를 만들어 주세요. 예를들어 N = 123이면 1 + 2 + 3 = 6을 return 하면 됩니다."
      ]
    },
    {
      "cell_type": "code",
      "execution_count": null,
      "metadata": {
        "id": "srUNK19KkdJ0"
      },
      "outputs": [],
      "source": [
        "lst = []\n",
        "def solution(n):\n",
        "    words = str(n)\n",
        "    for i in words:\n",
        "        if i.isdigit():\n",
        "            lst.append(i)\n",
        "\n",
        "    answer = sum(map(int, lst))\n",
        "    return answer\n",
        "\n",
        "# 한번에 정답"
      ]
    },
    {
      "cell_type": "markdown",
      "metadata": {
        "id": "3g1dSKCHsyrb"
      },
      "source": [
        "4. 선물을 직접 전하기 힘들 때 카카오톡 선물하기 기능을 이용해 축하 선물을 보낼 수 있습니다. 당신의 친구들이 이번 달까지 선물을 주고받은 기록을 바탕으로 다음 달에 누가 선물을 많이 받을지 예측하려고 합니다.\n",
        "\n",
        "* 두 사람이 선물을 주고받은 기록이 있다면, 이번 달까지 두 사람 사이에 더 많은 선물을 준 사람이 다음 달에 선물을 하나 받습니다.\n",
        "    * 예를 들어 A가 B에게 선물을 5번 줬고, B가 A에게 선물을 3번 줬다면 다음 달엔 A가 B에게 선물을 하나 받습니다.\n",
        "* 두 사람이 선물을 주고받은 기록이 하나도 없거나 주고받은 수가 같다면, 선물 지수가 더 큰 사람이 선물 지수가 더 작은 사람에게 선물을 하나 받습니다.\n",
        "    * 선물 지수는 이번 달까지 자신이 친구들에게 준 선물의 수에서 받은 선물의 수를 뺀 값입니다.\n",
        "    * 예를 들어 A가 친구들에게 준 선물이 3개고 받은 선물이 10개라면 A의 선물 지수는 -7입니다. B가 친구들에게 준 선물이 3개고 받은 선물이 2개라면 B의 선물 지수는 1입니다. 만약 A와 B가 선물을 주고받은 적이 없거나 정확히 같은 수로 선물을 주고받았다면, 다음 달엔 B가 A에게 선물을 하나 받습니다.\n",
        "    * 만약 두 사람의 선물 지수도 같다면 다음 달에 선물을 주고받지 않습니다.\n",
        "\n",
        "위에서 설명한 규칙대로 다음 달에 선물을 주고받을 때, 당신은 선물을 가장 많이 받을 친구가 받을 선물의 수를 알고 싶습니다.\n",
        "\n",
        "친구들의 이름을 담은 1차원 문자열 배열 friends 이번 달까지 친구들이 주고받은 선물 기록을 담은 1차원 문자열 배열 gifts가 매개변수로 주어집니다. 이때, 다음달에 가장 많은 선물을 받는 친구가 받을 선물의 수를 return 하도록 solution 함수를 완성해 주세요."
      ]
    },
    {
      "cell_type": "code",
      "execution_count": 66,
      "metadata": {
        "id": "h2iYEMnqsyc0"
      },
      "outputs": [],
      "source": [
        "# friends 와 gifts 받을 함수 만들기\n",
        "\n",
        "# 조건1. friends를 2명씩 추출할 때, 경우의 수에서 각각 누가 더 많이 줬는지\n",
        "\n",
        "# 조건2. 경우의 수당 gift 개수가 같다면(0 포함) 선물지수로 판단\n",
        "\n",
        "# 조건3. 선물지수조차 같다면 pass\n",
        "\n",
        "def solution(friends, gifts):\n",
        "    gift = []\n",
        "    gifts_giver = []\n",
        "    gifts_taker = []\n",
        "    giver_gisu = {}\n",
        "    taker_gisu = {}\n",
        "    gifts_gisu = {}\n",
        "\n",
        "    # 조건 2.1 주고 받은 리스트 정리\n",
        "    for i in gifts:\n",
        "        gift.append(i.split(\" \"))\n",
        "        gifts_giver.append(i.split(\" \")[0])\n",
        "        gifts_taker.append(i.split(\" \")[1]) # 같은 인덱스에 있는 사람들끼리 주고 받음\n",
        "    # 애러발생(1): i에 문자열이 담기기 때문에 gifts[i]가 아닌 그냥 i\n",
        "\n",
        "    # 조건 2.2 선물 준 개수 세기\n",
        "    for i in friends:\n",
        "        giver_gisu[i] = gifts_giver.count(i)    # key 값 별 준 선물 수\n",
        "\n",
        "    # 조건 2.3 선물 받은 개수 세기.\n",
        "    for i in friends:\n",
        "        taker_gisu[i] = gifts_taker.count(i)    # key 값 별 받은 선물 수\n",
        "    # 애러발생(2): 'set'은 인덱싱 불가, 대신 friends 리스트로 key 값을 불러오자.\n",
        "\n",
        "    # 조건 2.4 선물 지수 계산, giver의 value 값은 더하고 taker의 value 값은 빼는 식으로 딕셔너리 합치기.\n",
        "    for key, value in giver_gisu.items():\n",
        "        if key in gifts_gisu:\n",
        "            gifts_gisu[key] += value\n",
        "        else:\n",
        "            gifts_gisu[key] = value\n",
        "\n",
        "    for key, value in taker_gisu.items():\n",
        "        if key in gifts_gisu:\n",
        "            gifts_gisu[key] -= value\n",
        "        else:\n",
        "            gifts_gisu[key] = -value\n",
        "    # 에러발생(3): iterable 타입이 와야할 자리에 int 타입이 있기 때문에 발생하는 에러\n",
        "    # 에러발생(3): gifts[key]에서 [key]를 빼먹음\n",
        "\n",
        "    # 조건 2.5 사람별 선물 지수 계산 완료. 이제 주고 받은 수의 개수가 동일하다면 지수로 비교\n",
        "\n",
        "    # friends 딕셔너리, value값은 0으로 시작\n",
        "    friends_dic = {}\n",
        "    for i in friends:\n",
        "        friends_dic[i] = 0\n",
        "\n",
        "    # 조건 1. 주고 받은 기록이 있다면 더 많은 선물을 준 사람이 선물을 하나 받음\n",
        "    # 조건 1. gift 리스트에서 i번째와 i+1번째(i는 짝수 값) 묶음 개수와 i+1번째 문자와 i번째 문자의 묶음의 개수 비교\n",
        "    # 조건 1 미충족 시 조건 2로 넘어감\n",
        "    # 조건 3. value 값에 + 1씩 함\n",
        "\n",
        "    # friends 경우의 수 리스트(중복 없이)\n",
        "    set_friends = []\n",
        "    for i in friends:\n",
        "        for j in friends:\n",
        "            if i != j:\n",
        "                set_friends.append([i,j])\n",
        "\n",
        "    for i in set_friends:\n",
        "        if gift.count([i[0], i[1]]) > gift.count([i[1], i[0]]):\n",
        "            friends_dic[i[0]] += 1\n",
        "        elif gift.count([i[0], i[1]]) == gift.count([i[1], i[0]]):\n",
        "            if gifts_gisu[i[0]] > gifts_gisu[i[1]]:\n",
        "                friends_dic[i[0]] += 1\n",
        "            else:\n",
        "                pass\n",
        "        else:\n",
        "            pass\n",
        "\n",
        "    # 애러발생(4): 리스트의 인덱스를 정수형이 아닌 문자열으로 사용했을 때 만나는 에러\n",
        "    # 애러발생(4): 똑같이 i 자체가 문자열인데 gift[i] 이런 식으로 작성했음(오답이유)\n",
        "    # 애러발생(5): 값이 2여야 하는 데 3임\n",
        "    # 애러발생(5): 이는 gift를 순회하면서 중복 값임에도 1씩 더 더해져서 생긴 문제\n",
        "    # 애러발생(6): 일부 틀린 경우 발생\n",
        "    # 애러발생(6): 모든 경우의 수를 중복 없이 한번씩 순회해야 함, set_gift의 오류\n",
        "    # 애러발생(6): friends의 리스트 값을 모든 경우의 수로 묶어야 함\n",
        "    # 애러발생(7): 또한, 반대 상황을 생각할 필요 없음, if 조건에 해당하면 + 1, 반대인 경우는 반복문 돌면서 알아서 찾아줌.\n",
        "\n",
        "    # 최종 return 값에 friends_dic의 value 값 중 최대값 찾기\n",
        "    return max(friends_dic.values())"
      ]
    },
    {
      "cell_type": "code",
      "execution_count": 65,
      "metadata": {
        "id": "iJs0V2B4QdK-"
      },
      "outputs": [],
      "source": [
        "# 깔끔하게 다시 쓰기\n",
        "\n",
        "# friends 와 gifts 받을 함수 만들기\n",
        "\n",
        "# 조건1. friends를 2명씩 추출할 때, 경우의 수에서 각각 누가 더 많이 줬는지\n",
        "\n",
        "# 조건2. 경우의 수당 gift 개수가 같다면(0 포함) 선물지수로 판단\n",
        "\n",
        "# 조건3. 선물지수조차 같다면 pass\n",
        "\n",
        "def solution(friends, gifts):\n",
        "    gift = []\n",
        "    gifts_giver = []\n",
        "    gifts_taker = []\n",
        "    giver_gisu = {}\n",
        "    taker_gisu = {}\n",
        "    gifts_gisu = {}\n",
        "\n",
        "    # 조건 2.1 주고 받은 리스트 정리\n",
        "    for i in gifts:\n",
        "        gift.append(i.split(\" \"))\n",
        "        gifts_giver.append(i.split(\" \")[0])\n",
        "        gifts_taker.append(i.split(\" \")[1])\n",
        "\n",
        "    # 조건 2.2 선물 주고 받은 개수 각각 딕셔너리에 입력\n",
        "    for i in friends:\n",
        "        giver_gisu[i] = gifts_giver.count(i)    # key 값 당 준 선물 수\n",
        "\n",
        "    for i in friends:\n",
        "        taker_gisu[i] = gifts_taker.count(i)    # key 값 당 받은 선물 수\n",
        "\n",
        "    # 조건 2.4 선물 지수 계산\n",
        "    for key, value in giver_gisu.items():\n",
        "        if key in gifts_gisu:\n",
        "            gifts_gisu[key] += value\n",
        "        else:\n",
        "            gifts_gisu[key] = value\n",
        "\n",
        "    for key, value in taker_gisu.items():\n",
        "        if key in gifts_gisu:\n",
        "            gifts_gisu[key] -= value\n",
        "        else:\n",
        "            gifts_gisu[key] = -value\n",
        "\n",
        "    # friends 딕셔너리, value값은 다음 달에 선물 받을 개수로 0에서 시작\n",
        "    friends_dic = {}\n",
        "    for i in friends:\n",
        "        friends_dic[i] = 0\n",
        "\n",
        "    # friends 경우의 수 리스트(중복 없이)\n",
        "    set_friends = []\n",
        "    for i in friends:\n",
        "        for j in friends:\n",
        "            if i != j:\n",
        "                set_friends.append([i,j])\n",
        "\n",
        "    # 조건1, 조건2 join\n",
        "    for i in set_friends:\n",
        "        if gift.count([i[0], i[1]]) > gift.count([i[1], i[0]]):\n",
        "            friends_dic[i[0]] += 1\n",
        "        elif gift.count([i[0], i[1]]) == gift.count([i[1], i[0]]):\n",
        "            if gifts_gisu[i[0]] > gifts_gisu[i[1]]:\n",
        "                friends_dic[i[0]] += 1\n",
        "            else:\n",
        "                pass\n",
        "        else:\n",
        "            pass\n",
        "\n",
        "    return max(friends_dic.values())"
      ]
    },
    {
      "cell_type": "code",
      "execution_count": null,
      "metadata": {
        "id": "ewcaPp1oR8Fa"
      },
      "outputs": [],
      "source": [
        "# AI가 푼 코드\n",
        "\n",
        "# 1. 각 친구별로 준 선물과 받은 선물의 수를 계산합니다.\n",
        "# 2. 각 친구의 선물 지수를 계산합니다.\n",
        "# 3. 모든 친구 쌍에 대해 다음 달에 누가 선물을 받을지 결정합니다.\n",
        "# 4. 각 친구가 받을 선물의 수를 계산하고, 최대값을 찾습니다.\n",
        "\n",
        "# defaultdict를 import\n",
        "# 이는 딕셔너리의 키가 존재하지 않을 때 자동으로 기본값을 생성해주는 딕셔너리\n",
        "from collections import defaultdict\n",
        "\n",
        "def solution(friends, gifts):\n",
        "    n = len(friends)\n",
        "    # 각 친구 쌍 간의 선물 교환 횟수를 저장할 '중첩' 딕셔너리\n",
        "    gift_count = defaultdict(lambda: defaultdict(int))\n",
        "    # 각 친구의 선물 지수를 저장할 딕셔너리\n",
        "    gift_index = defaultdict(int)\n",
        "    # 다음 달에 각 친구가 받을 선물의 수를 저장할 딕셔너리\n",
        "    next_month_gifts = defaultdict(int)\n",
        "\n",
        "    # 선물 주고받은 기록 및 선물 지수 계산\n",
        "    for gift in gifts:\n",
        "        giver, receiver = gift.split()  # giver, receiver로 한번에 스플릿해서 리스트 생성\n",
        "        gift_count[giver][receiver] += 1    # 교환횟수 계산\n",
        "        gift_index[giver] += 1  # giver의 경우 선물 지수 value 값에 + 1\n",
        "        gift_index[receiver] -= 1   # receiver의 경우 선물 지수 value 값에 - 1\n",
        "\n",
        "    # 다음 달 선물 계산\n",
        "    for i in range(n):  # 친구 수 길이만큼 반복\n",
        "        for j in range(i+1, n): # 1부터 n-1까지 반복\n",
        "            friend1, friend2 = friends[i], friends[j] # 각각 리스트에 담음\n",
        "            # 가능한 모든 쌍에 반복\n",
        "            # 두 친구 간의 선물 교환 횟수를 비교하여\n",
        "            # 더 많이 준 쪽이 다음 달에 선물 + 1\n",
        "            if gift_count[friend1][friend2] > gift_count[friend2][friend1]:\n",
        "                next_month_gifts[friend1] += 1\n",
        "            elif gift_count[friend1][friend2] < gift_count[friend2][friend1]:\n",
        "                next_month_gifts[friend2] += 1\n",
        "            # 선물 교환 횟수가 같거나 없는 경우\n",
        "            # 선물 지수를 비교하여 더 높은 쪽이 선물을 받습니다.\n",
        "            else:\n",
        "                if gift_index[friend1] > gift_index[friend2]:\n",
        "                    next_month_gifts[friend1] += 1\n",
        "                elif gift_index[friend1] < gift_index[friend2]:\n",
        "                    next_month_gifts[friend2] += 1\n",
        "\n",
        "    # 가장 많은 선물을 받는 친구의 선물 수 반환\n",
        "    # 만약 next_month_gifts가 비어있다면(아무도 선물을 받지 않는 경우) 0을 반환\n",
        "    return max(next_month_gifts.values()) if next_month_gifts else ()"
      ]
    },
    {
      "cell_type": "markdown",
      "metadata": {
        "id": "0GKwuPSmTJPy"
      },
      "source": [
        "* 문제 후기\n",
        "    - 처음으로 AI 도움없이 복잡한 문제를 풀어봤는데 다른 답변을 보니 나처럼 이렇게 복잡하게 푼 사람은 없는 것 같다...\n",
        "    - AI와 비슷하게 문제 하나하나 뜯어가며 차례대로 풀은 거 같은데 굉장히 무겁게 돌아간다.\n",
        "    - python은 내장 함수를 잘 사용할 필요가 있는 것 같다. 아직 배우진 않았지만 차근차근 하나씩 알아가서 써야 코드를 간결하게 쓸 수 있을 것 같다.\n",
        "    - set은 인덱싱이 불가능하므로 반복할 수 없다.(iterable 하지 않다)\n",
        "    - for 문으로 리스트나 문자열을 반복할 때, 인덱스가 아닌 **문자 그대로** 들어가므로 리스트[i]와 같은 실수는 하지 않아야 한다.\n",
        "    - 딕셔너리에 append하고 싶다면, dict[key] = value 구조로 하기\n",
        "    - 조건문이 이중으로 적용되어야 할 때를 생각하기\n",
        "    - 모든 경우의 수에서 적용될 수 있는 지 고민하기\n",
        "    - 딕셔너리에 사용되는 함수 공부가 더 필요할 것 같다."
      ]
    },
    {
      "cell_type": "markdown",
      "metadata": {
        "id": "Jh3iDRuvhdke"
      },
      "source": [
        "## Lv. 2"
      ]
    },
    {
      "cell_type": "markdown",
      "metadata": {
        "id": "uuw5l2pghhu2"
      },
      "source": [
        "1. 문자열 s에는 공백으로 구분된 숫자들이 저장되어 있습니다. str에 나타나는 숫자 중 최소값과 최대값을 찾아 이를 \"(최소값) (최대값)\"형태의 문자열을 반환하는 함수, solution을 완성하세요. 예를들어 s가 \"1 2 3 4\"라면 \"1 4\"를 리턴하고, \"-1 -2 -3 -4\"라면 \"-4 -1\"을 리턴하면 됩니다."
      ]
    },
    {
      "cell_type": "code",
      "execution_count": 58,
      "metadata": {
        "colab": {
          "base_uri": "https://localhost:8080/",
          "height": 54
        },
        "id": "WRgwEM54uFTQ",
        "outputId": "8ecdd8b5-b942-4fa7-e371-547c087ada46"
      },
      "outputs": [
        {
          "data": {
            "application/vnd.google.colaboratory.intrinsic+json": {
              "type": "string"
            },
            "text/plain": [
              "'\\nmap() 함수는 기존의 리스트(또는 튜플)의 모든 요소에 특정 함수를 적용한 결과를\\n\\n**map 객체 형태로 반환하는 함수**입니다.\\n\\nmap 객체는 다시 list()를 이용해 리스트 형태로 변환할 수 있습니다.\\n\\n사용 예시: map(int, s)\\n'"
            ]
          },
          "execution_count": 58,
          "metadata": {},
          "output_type": "execute_result"
        }
      ],
      "source": [
        "def solution(s):\n",
        "    # 문자열을 공백으로 분리하고 각 숫자를 정수로 변환\n",
        "    numbers = list(map(int, s.split()))\n",
        "\n",
        "    # 최소값과 최대값 찾기\n",
        "    min_num = min(numbers)\n",
        "    max_num = max(numbers)\n",
        "\n",
        "    # 결과 문자열 생성\n",
        "    result = f\"{min_num} {max_num}\"\n",
        "\n",
        "    return result"
      ]
    },
    {
      "cell_type": "markdown",
      "metadata": {
        "id": "2ol7fYhXYLjZ"
      },
      "source": [
        "* map() 함수는 기존의 리스트(또는 튜플)의 모든 요소에 특정 함수를 적용한 결과를 **map 객체 형태로 반환하는 함수**\n",
        "* map 객체는 다시 list()를 이용해 리스트 형태로 변환할 수 있음\n",
        "* 사용 예시: map(int, s)"
      ]
    },
    {
      "cell_type": "markdown",
      "metadata": {},
      "source": []
    }
  ],
  "metadata": {
    "colab": {
      "provenance": []
    },
    "kernelspec": {
      "display_name": "Python 3",
      "name": "python3"
    },
    "language_info": {
      "name": "python"
    }
  },
  "nbformat": 4,
  "nbformat_minor": 0
}
