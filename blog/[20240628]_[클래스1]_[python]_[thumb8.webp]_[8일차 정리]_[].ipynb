{
  "nbformat": 4,
  "nbformat_minor": 0,
  "metadata": {
    "colab": {
      "provenance": [],
      "toc_visible": true
    },
    "kernelspec": {
      "name": "python3",
      "display_name": "Python 3"
    },
    "language_info": {
      "name": "python"
    }
  },
  "cells": [
    {
      "cell_type": "markdown",
      "source": [
        "# 클래스\n",
        "- 일종의 설계 도면 또는 템플릿\n",
        "- 이 설계 도면을 통해 생산된 생산품을 인스턴스\n",
        "-  공통의 데이터와 기능을 한데 묶어서 클래스로 만들어 놓으면 편리\n",
        "- 설계 도면(클래스)이 있다면 이것으로 100개의 몹(인스턴스)를 만들 수 있음\n",
        "\n",
        "```py\n",
        "class Character: # 클래스, 대문자 시작\n",
        "    def __init__(hp, mp, power, drop_rate...(생략)):\n",
        "        self.hp = hp # 데이터, self\n",
        "        self.mp = mp # 데이터\n",
        "        ...(생략)\n",
        "\n",
        "    def move(self): # 기능\n",
        "        ...(생략)\n",
        "\n",
        "    def attack(self): # 기능\n",
        "        ...(생략)\n",
        "\n",
        "hero = Character(100, 100, 100, 0, ...(생략)) # 인스턴스\n",
        "mob1 = Character(30, 30, 30, 0.8, ...(생략)) # 인스턴스\n",
        "mob2 = Character(50, 50, 50, 0.5, ...(생략)) # 인스턴스\n",
        "mob3 = Character(70, 70, 70, 0.3, ...(생략)) # 인스턴스\n",
        "villain = Character(100, 100, 90, 0.1, ...(생략)) # 인스턴스\n",
        "# 함수명이 아닌 클래스명 앞에 아규먼트를 적음\n",
        "```"
      ],
      "metadata": {
        "id": "m7_LKnkGEKWs"
      }
    },
    {
      "cell_type": "markdown",
      "source": [
        "- 파이썬은 **객체지향 프로그램**임\n",
        "- 객체란 **실제 세계에 존재하는 개념, 사물, 또는 추상적인 아이디어**를 프로그래밍 언어로 표현한 것\n",
        "- 이러한 객체들은 각자의 속성(데이터)과 행동(메서드)을 가지고 있음\n",
        "```py\n",
        "data(멤버, 애트리뷰트) # 클래스 내 변수로 선언됩니다\n",
        "max_speed = 10   # 이것을 멤버 또는 애트리뷰트라고 합니다.\n",
        "max_passenger = 4\n",
        "```\n",
        "```py\n",
        "def function(메서드) # 클래스 내 함수로 선언됩니다. 이것을 메서드라고 합니다.\n",
        "    x.start\n",
        "    x.stop\n",
        "```"
      ],
      "metadata": {
        "id": "-OxLULGhNmJ9"
      }
    },
    {
      "cell_type": "code",
      "execution_count": 1,
      "metadata": {
        "colab": {
          "base_uri": "https://localhost:8080/"
        },
        "id": "5E9c_hiTEGlf",
        "outputId": "02c3ad29-8ae9-40f0-e7ca-03cd1e51f706"
      },
      "outputs": [
        {
          "output_type": "stream",
          "name": "stdout",
          "text": [
            "시동을 켭니다.\n",
            "달립니다.\n",
            "시동을 끕니다.\n"
          ]
        }
      ],
      "source": [
        "# 차에 대한 설계도면/차공장 -> 클래스로 표현\n",
        "class Car:  # class로 시작 / class의 이름은 대문자로 시작 / 콜론으로 끝남\n",
        "    max_speed = 200  # 멤버 변수\n",
        "    max_passenger = 4 # 인원 수\n",
        "\n",
        "    # 기능(메서드)\n",
        "    def start(self):\n",
        "        print(\"시동을 켭니다.\")\n",
        "\n",
        "    def stop(self):\n",
        "        print(\"시동을 끕니다.\")\n",
        "\n",
        "    def move(self):\n",
        "        print(\"달립니다.\")\n",
        "\n",
        "# 차공장에서 모델 x, y를 생산합니다.\n",
        "model_x = Car()  # Car 클래스의 인스턴스 생성 / 인스턴스 = 클래스명() 지정\n",
        "model_y = Car()\n",
        "\n",
        "model_x.start() # 직접 메서드를 만듬\n",
        "model_x.move()\n",
        "model_x.stop()"
      ]
    },
    {
      "cell_type": "code",
      "source": [
        "class Car:\n",
        "    pass\n",
        "modelx = Car()\n",
        "\n",
        "\n",
        "isinstance(modelx, Car) # 출력 값: True"
      ],
      "metadata": {
        "colab": {
          "base_uri": "https://localhost:8080/"
        },
        "id": "bYqxWEelRPOB",
        "outputId": "2e213190-583f-4390-bf36-7b503d0d9a0b"
      },
      "execution_count": 2,
      "outputs": [
        {
          "output_type": "execute_result",
          "data": {
            "text/plain": [
              "True"
            ]
          },
          "metadata": {},
          "execution_count": 2
        }
      ]
    },
    {
      "cell_type": "code",
      "source": [
        "class car:\n",
        "    def __init__(self, name):# 가장 처음 실행되는 매직 메서드, 인스턴스에서 필요한 데이터를 불러옴\n",
        "        self.name = name    # return 필요없음\n",
        "\n",
        "modelx = car(\"modelx\")\n",
        "modelx.name"
      ],
      "metadata": {
        "colab": {
          "base_uri": "https://localhost:8080/"
        },
        "id": "c_P1Z8wNYZ4Q",
        "outputId": "7ffb60fc-a560-44aa-a209-8dc58000fd6e"
      },
      "execution_count": 4,
      "outputs": [
        {
          "output_type": "stream",
          "name": "stdout",
          "text": [
            "modelx\n"
          ]
        }
      ]
    },
    {
      "cell_type": "markdown",
      "source": [
        "## 클래스의 필요성\n",
        "\n",
        "- 구조화를 통한 속도 향상\n",
        "- 재사용성: 게임에서의 등장인물, 웹 서비스에서의 게시판 게시물, 크롤링(웹에서 정보를 가져오는 것)한 책 정보 등 __반복적으로 만들어야 하는 여러 객체__를 클래스를 사용하여 구조적으로 만들 수 있음\n",
        "- 유지보수: 구조화되어 있기 때문에 코드를 수정하기 쉬움\n",
        "- 클래스 대안? 기본 자료형으로도 문제없이 사용할 수 있다면 굳이 클래스로 구현하지 않아도 됨. 기본 자료형으로 고정되어 있다면 딕셔너리나 클로저를 사용할 수 있지만 유지보수, 리스트를 바꾸기에는 제한점이 있\n",
        "- 어떻게 공부해야 할까? 실무에서 사용되는 사례를 찾아보고 이런 소스코드를 분석해보거나 직접 구현하여 활용\n",
        "\n",
        "* 예시\n",
        "    * class Character => Licat(주인공), Lion(빌런), Mob1(몬스터), Mob2(몬스터)\n",
        "    * class Post => 게시물1, 게시물2, 게시물3...\n",
        "    * class Dot => 점1, 점2, 점3...\n",
        "    * class User => 유저1, 유저2, 유저3...\n",
        "    * class Commnet => 댓글1, 댓글2, 댓글3...\n",
        "    * class Product => 상품1, 상품2, 상품3...\n",
        "    * class Restaurant => 음식점1, 음식점2, 음식점3...\n",
        "    * class Class_ => 강의1, 강의2, 강의3...\n",
        "    * class Teacher => 강사1, 강사2, 강사3..."
      ],
      "metadata": {
        "id": "ZC0NTFxZaUHp"
      }
    },
    {
      "cell_type": "code",
      "source": [
        "# class를 사용하지 않는 경우\n",
        "# 1. 축구 게임 캐릭터 만들기 -> 원래는 프린트문으로\n",
        "\n",
        "name = \"손흥민\"\n",
        "position = \"MF\"\n",
        "team = \"토트넘\"\n",
        "team_score = 7\n",
        "\n",
        "print(f\"{name} 유닛을 생성했습니다.\")\n",
        "print(f\"{position}, {team}, {team_score}\")\n",
        "\n",
        "# 근데 만약 새로운 유닛을 만드려면 변수를 새로 생성해야 했음\n",
        "\n",
        "new_name = \"이강인\"\n",
        "new_position = \"MF\"\n",
        "new_team = \"PSG\"\n",
        "new_team_score = 10\n",
        "\n",
        "print(f\"{new_name} 유닛을 생성했습니다.\")\n",
        "print(f\"{new_position}, {new_team}, {new_team_score}\")\n",
        "\n",
        "def shot(name, location, speed):\n",
        "    print(f\"{name}이 {location}으로 슈팅합니다. 속도는 {speed}입니다.\")\n",
        "\n",
        "shot(new_name, \"중앙\", 100)\n",
        "shot(name, \"좌측\", 10)\n",
        "\n",
        "# 하지만 매번 새로운 능력치가 있을때마다 새로운 변수를 만드는것은 비효율적"
      ],
      "metadata": {
        "id": "POX0mzxyaTr6"
      },
      "execution_count": null,
      "outputs": []
    },
    {
      "cell_type": "code",
      "source": [
        "# 클래스를 사용하는 경우\n",
        "class Unit:\n",
        "    def __init__(self, name, position, team, team_score):\n",
        "        self.name = name\n",
        "        self.position = position\n",
        "        self.team = team\n",
        "        self.team_score = team_score\n",
        "\n",
        "    def shot(self, location, speed):\n",
        "        print(f\"{self.name}이 {location}으로 슈팅합니다. 속도는 {speed}입니다.\")\n",
        "\n",
        "Son = Unit(\"손흥민\", \"MF\", \"토트넘\", 7)\n",
        "Kang = Unit(\"이강인\", \"MF\", \"PSG\", 10)\n",
        "\n",
        "Son.shot(\"중앙\", 100)\n",
        "Kang.shot(\"좌측\", 10)"
      ],
      "metadata": {
        "colab": {
          "base_uri": "https://localhost:8080/"
        },
        "id": "1oBCjgT6Yte9",
        "outputId": "e6aaabad-2949-4c17-e65b-57c1bf76da29"
      },
      "execution_count": 6,
      "outputs": [
        {
          "output_type": "stream",
          "name": "stdout",
          "text": [
            "손흥민이 중앙으로 슈팅합니다. 속도는 100입니다.\n",
            "이강인이 좌측으로 슈팅합니다. 속도는 10입니다.\n"
          ]
        }
      ]
    },
    {
      "cell_type": "code",
      "source": [
        "# 클래스 변수는 해당 클래스를 통해 만들어진 모든 인스턴스 객체들이 공유하는 변수 값\n",
        "class Car:\n",
        "    # 클래스 변수의 위치\n",
        "    max_speed = 300\n",
        "    max_people = 5\n",
        "\n",
        "modelx = Car()\n",
        "modely = Car()\n",
        "\n",
        "modely.max_speed = 500\n",
        "\n",
        "print(Car.max_speed)\n",
        "print(modelx.max_speed)\n",
        "print(modely.max_speed)"
      ],
      "metadata": {
        "colab": {
          "base_uri": "https://localhost:8080/"
        },
        "id": "nWss_ATtfD-V",
        "outputId": "437d554b-340a-4278-dff6-818fe23ca1c9"
      },
      "execution_count": 8,
      "outputs": [
        {
          "output_type": "stream",
          "name": "stdout",
          "text": [
            "300\n",
            "300\n",
            "500\n"
          ]
        }
      ]
    },
    {
      "cell_type": "code",
      "source": [
        "class Car:\n",
        "    speed = 300\n",
        "\n",
        "    def change_speed(self, speed):\n",
        "        self.speed = speed\n",
        "\n",
        "modelx = Car()\n",
        "modely = Car()\n",
        "\n",
        "modelx.change_speed(500)\n",
        "modely.change_speed(250)\n",
        "\n",
        "print(f'modelx.speed: {modelx.speed}')\n",
        "print(f'modely.speed: {modely.speed}')\n",
        "print(f'Car.speed: {Car.speed}')"
      ],
      "metadata": {
        "colab": {
          "base_uri": "https://localhost:8080/"
        },
        "id": "ds6DMzROf7lC",
        "outputId": "d9946aee-50cb-4e8a-8103-4c87c69878b0"
      },
      "execution_count": 12,
      "outputs": [
        {
          "output_type": "stream",
          "name": "stdout",
          "text": [
            "modelx.speed: 500\n",
            "modely.speed: 250\n",
            "Car.speed: 300\n"
          ]
        }
      ]
    },
    {
      "cell_type": "code",
      "source": [
        "class Car:\n",
        "    kinds = []\n",
        "    speed = 300\n",
        "\n",
        "    def add_kinds(self, name):\n",
        "        self.kinds.append(name)\n",
        "\n",
        "    def change_speed(self, speed):\n",
        "        self.speed = speed\n",
        "\n",
        "modelx = Car()\n",
        "modely = Car()\n",
        "\n",
        "modelx.add_kinds('modelx')\n",
        "modely.add_kinds('modely')\n",
        "\n",
        "print(modelx.kinds)\n",
        "print(modely.kinds)"
      ],
      "metadata": {
        "colab": {
          "base_uri": "https://localhost:8080/"
        },
        "id": "jvMyhqoag0tk",
        "outputId": "94750928-164c-48b5-dec2-44ae71401c79"
      },
      "execution_count": 13,
      "outputs": [
        {
          "output_type": "stream",
          "name": "stdout",
          "text": [
            "['modelx', 'modely']\n",
            "['modelx', 'modely']\n"
          ]
        }
      ]
    },
    {
      "cell_type": "markdown",
      "source": [
        "## 인스턴스 변수"
      ],
      "metadata": {
        "id": "MilSZ3JMnvDu"
      }
    },
    {
      "cell_type": "code",
      "source": [
        "class Car:\n",
        "    max_speed = 300\n",
        "\n",
        "    def __init__(self, name): # self는 인스턴스 고유의 영역\n",
        "        self.name = name\n",
        "\n",
        "    def start(self, speed): # self는 인스턴스 고유의 영역\n",
        "        self.speed = speed\n",
        "        return f'{self.name}차가 {self.speed}의 속력으로 움직이고 있습니다.'\n",
        "\n",
        "\n",
        "print(Car.max_speed)\n",
        "modelx = Car('Weniv Model X')\n",
        "print(modelx.max_speed)\n",
        "print(modelx.name)\n",
        "print(modelx.start(100))"
      ],
      "metadata": {
        "colab": {
          "base_uri": "https://localhost:8080/"
        },
        "id": "Qov0kZbMns0U",
        "outputId": "1c0b3787-4a42-462f-b911-38d7cd03afa0"
      },
      "execution_count": 14,
      "outputs": [
        {
          "output_type": "stream",
          "name": "stdout",
          "text": [
            "300\n",
            "300\n",
            "Weniv Model X\n",
            "Weniv Model X차가 100의 속력으로 움직이고 있습니다.\n"
          ]
        }
      ]
    },
    {
      "cell_type": "code",
      "source": [
        "class Car:\n",
        "    max_speed = 300\n",
        "\n",
        "\n",
        "    def __init__(self, name): # self는 자신만의 영역\n",
        "        self.name = name\n",
        "\n",
        "\n",
        "    def start(self, speed): # self는 자신만의 영역\n",
        "        self.speed = speed\n",
        "        return f'{self.name}차가 {self.speed}의 속력으로 움직이고 있습니다.'\n",
        "\n",
        "\n",
        "modelx = Car('Weniv Model X')\n",
        "modelx.name = 'ModelY'\n",
        "modelx.welcome = 'hello world'  # 인스턴스 접근, 값 변경 가능\n",
        "print(modelx.name, modelx.welcome) # 출력 값: ModelY hello world"
      ],
      "metadata": {
        "colab": {
          "base_uri": "https://localhost:8080/"
        },
        "id": "KaO_hFFVoug_",
        "outputId": "66a52ffd-e5b2-4d48-8546-009f3611f10e"
      },
      "execution_count": 15,
      "outputs": [
        {
          "output_type": "stream",
          "name": "stdout",
          "text": [
            "ModelY hello world\n"
          ]
        }
      ]
    },
    {
      "cell_type": "code",
      "source": [
        "# 다른 자료형의 인스턴스 변 변경\n",
        "\n",
        "def hello():\n",
        "    print('hello world')\n",
        "\n",
        "print(type(hello)) # 출력 값: <class 'function'>"
      ],
      "metadata": {
        "colab": {
          "base_uri": "https://localhost:8080/"
        },
        "id": "ZqkthGjzp0BJ",
        "outputId": "8c8ef849-8d1f-4eda-c20e-dd3ad734e35f"
      },
      "execution_count": 17,
      "outputs": [
        {
          "output_type": "stream",
          "name": "stdout",
          "text": [
            "<class 'function'>\n"
          ]
        }
      ]
    },
    {
      "cell_type": "markdown",
      "source": [
        "### 클래스, 인스턴스 변수 요약\n",
        "\n",
        "- 클래스 변수\n",
        "    - 정의: 클래스 변수는 클래스 정의 내에 선언되며, 클래스의 모든 인스턴스 간에 공유됩니다. 클래스 변수는 클래스가 메모리에 로드될 때 생성됩니다.\n",
        "    - 용도: 클래스 변수는 해당 클래스의 모든 인스턴스에서 공통적으로 사용되는 값을 저장하는 데 사용됩니다. 예를 들어, 모든 Car 객체에 공통적으로 적용되는 기본 속도 설정과 같은 경우에 사용됩니다.\n",
        "    - 접근 방법: 클래스 이름을 통해 접근하거나 self를 통해 인스턴스를 통해서도 접근할 수 있습니다. Car.max_speed와 같은 형태로 사용할 수 있습니다.\n",
        "    - 특징: 클래스 변수의 값을 변경하면, 해당 클래스의 모든 인스턴스에 대해 변경사항이 적용됩니다.\n",
        "    \n",
        "- 인스턴스 변수\n",
        "    - 정의: 인스턴스 변수는 클래스의 각 인스턴스(객체)에 속하는 변수입니다. 이 변수들은 각 인스턴스마다 별도로 존재하며, 인스턴스 생성 시에 만들어집니다.\n",
        "    - 용도: 인스턴스 변수는 개별 객체의 상태를 저장하는 데 사용됩니다. 예를 들어, 여러 Car 객체가 있을 때 각 Car의 속도나 색상 같은 고유한 속성을 인스턴스 변수로 저장할 수 있습니다.\n",
        "    - 접근 방법: self 키워드를 사용하여 인스턴스 내에서 이 변수에 접근하고 수정합니다. self.max_speed = 200와 같은 형태로 사용할 수 있습니다.\n",
        "    - 특징: 각 인스턴스의 변수는 서로 독립적이므로, 한 인스턴스에서 변수의 값을 변경해도 다른 인스턴스의 동일한 변수에는 영향을 주지 않습니다."
      ],
      "metadata": {
        "id": "ZcasR9bjrGDo"
      }
    },
    {
      "cell_type": "markdown",
      "source": [
        "## 클래스 실습\n",
        "\n"
      ],
      "metadata": {
        "id": "RSJ-_BBLymcY"
      }
    },
    {
      "cell_type": "code",
      "source": [
        "# 노트 구현 -> 무언가를 쓰는 기능!\n",
        "# 맨처음 시작할 때는 노트\n",
        "# 노트는 노트북의 일부\n",
        "\n",
        "class Note():\n",
        "    '''맨 처음은 초기화 시켜야! __init__'''\n",
        "    def __init__(self, user, write = None): # write 에는 형태는 있지만 데이터는 없는 것이 기본\n",
        "        self.write = write\n",
        "\n",
        "    ''' 1) 쓰는 기능 추가'''\n",
        "    def write_fuction(self, write):\n",
        "        self.write = write\n",
        "\n",
        "    ''' 2) 제거 기능 추가'''\n",
        "    def remove_all(self):\n",
        "        self.write = \"\"\n",
        "\n",
        "    ''' 3) 작성된 내용 확인'''\n",
        "    def __str__(self):\n",
        "        return self.write\n"
      ],
      "metadata": {
        "id": "87-UyFM3qexp"
      },
      "execution_count": 18,
      "outputs": []
    },
    {
      "cell_type": "code",
      "source": [
        "# 2. 포켓몬스터 캐릭터 만들기\n",
        "\n",
        "class Pokemon_pi:\n",
        "    # 고유 능력치\n",
        "    strength = 20\n",
        "    energy = 15\n",
        "    volt = 100\n",
        "\n",
        "    def attack(self):\n",
        "        return '전기공격'\n",
        "\n",
        "Jiwoo = Pokemon_pi()\n",
        "print(Jiwoo.strength)\n",
        "print(Jiwoo.attack())"
      ],
      "metadata": {
        "colab": {
          "base_uri": "https://localhost:8080/"
        },
        "id": "KcO4LgHN1Ypq",
        "outputId": "a03c28f5-9a24-4c8a-d2eb-47ba395b50e3"
      },
      "execution_count": 28,
      "outputs": [
        {
          "output_type": "stream",
          "name": "stdout",
          "text": [
            "20\n",
            "전기공격\n"
          ]
        }
      ]
    },
    {
      "cell_type": "code",
      "source": [
        "# self\n",
        "\n",
        "# self는 바로 그 클래스의 객체를 나타냄\n",
        "# 한마디로 메서드를 정의할 때는 항상 self라는 인자를 써준다고 생각하면 된다."
      ],
      "metadata": {
        "id": "VaEpObtt1x6l"
      },
      "execution_count": null,
      "outputs": []
    },
    {
      "cell_type": "code",
      "source": [
        "# self.name과 그냥 name의 차이\n",
        "\n",
        "class ClassExample:\n",
        "    @staticmethod\n",
        "    def call(self, name):\n",
        "        self.name = \"self\" + name   # self.name으로 파라미터와 구분\n",
        "        print(f\"self : {self.name}, param : {name}\")\n",
        "\n",
        "a = ClassExample()\n",
        "a.call(a, '철수')\n",
        "print(a.name)\n",
        "'''\n",
        "출력 값: self : self철수, param : 철수\n",
        "\n",
        "그냥 변수인 name하고 class의 고유한 값인 self.name이랑은 구분됨\n",
        "'''"
      ],
      "metadata": {
        "colab": {
          "base_uri": "https://localhost:8080/",
          "height": 73
        },
        "id": "MDSY3g3a3yLj",
        "outputId": "ecad5f2e-67f6-4ac7-e29d-303fac553310"
      },
      "execution_count": 33,
      "outputs": [
        {
          "output_type": "stream",
          "name": "stdout",
          "text": [
            "self : self철수, param : 철수\n",
            "self철수\n"
          ]
        },
        {
          "output_type": "execute_result",
          "data": {
            "text/plain": [
              "'\\n출력 값: self : self철수, param : 철수\\n\\n그냥 변수인 name하고 class의 고유한 값인 self.name이랑은 구분됨\\n'"
            ],
            "application/vnd.google.colaboratory.intrinsic+json": {
              "type": "string"
            }
          },
          "metadata": {},
          "execution_count": 33
        }
      ]
    },
    {
      "cell_type": "code",
      "source": [
        "# __init__ 생성자는 호출만 되어도 자동으로 수행이 되는 기능!\n",
        "\n",
        "class Person:\n",
        "    def __init__(self):\n",
        "        print('생성자 호출')\n",
        "\n",
        "p = Person()"
      ],
      "metadata": {
        "colab": {
          "base_uri": "https://localhost:8080/"
        },
        "id": "wk1gnJFq6OPf",
        "outputId": "4ca1ec63-bd98-4874-afd2-cf7a48fbf81b"
      },
      "execution_count": 35,
      "outputs": [
        {
          "output_type": "stream",
          "name": "stdout",
          "text": [
            "생성자 호출\n"
          ]
        }
      ]
    },
    {
      "cell_type": "code",
      "source": [
        "class Myclass:\n",
        "    count = 0  # 클래스 함수\n",
        "\n",
        "    def __init__(self):  # 인스턴스 함수\n",
        "        self.count += 1\n",
        "\n",
        "    def get_count(self):\n",
        "        return Myclass.count  # 클래스 변수 호출\n",
        "\n",
        "a = Myclass()\n",
        "b = Myclass()\n",
        "c = Myclass()\n",
        "\n",
        "print(a.get_count())"
      ],
      "metadata": {
        "colab": {
          "base_uri": "https://localhost:8080/"
        },
        "id": "TVPGmYcw6Zhi",
        "outputId": "f28ff388-9666-4391-8208-a7bbee35eadb"
      },
      "execution_count": 42,
      "outputs": [
        {
          "output_type": "stream",
          "name": "stdout",
          "text": [
            "0\n"
          ]
        }
      ]
    },
    {
      "cell_type": "markdown",
      "source": [
        "## 매직 메서드\n",
        "\n",
        "- 파이썬의 클래스에는 기본적으로 내장하고 있는 특별 메서드들\n",
        "\n",
        "- 파이썬에서는 이런 내장하고 있는 특별 메서드들을 쉽게 재정의하여 사용할 수 있게 되어있음\n",
        "\n",
        "- 마치 마법처럼 간단하게 수정할 수 있다고 해서 매직 매서드\n",
        "\n",
        "- 더블 언더바(__)를 2개 쓰고 있는 점에서 던더(dunder) 메서드라고도 부름"
      ],
      "metadata": {
        "id": "APpPvhPlOzsq"
      }
    },
    {
      "cell_type": "code",
      "source": [
        "class Point:\n",
        "\n",
        "    def __init__(self, x, y):\n",
        "        self.x = x\n",
        "        self.y = y\n",
        "\n",
        "    def __add__(self, other):   # 좌표 이동\n",
        "        if isinstance(other, Point):\n",
        "            return Point((self.x + other.x), (self.y + other.y))\n",
        "        elif isinstance(other, int) or isinstance(other, float):\n",
        "            return Point((self.x + other), (self.y + other))\n",
        "\n",
        "\n",
        "    def distance(self, other):  # 두 좌표 거리 계산\n",
        "        dx = self.x - other.x\n",
        "        dy = self.y - other.y\n",
        "        return (dx**2 + dy**2)**0.5\n",
        "\n",
        "\n",
        "dot1 = Point(10, 20)\n",
        "dot2 = Point(20, 30)\n",
        "\n",
        "\n",
        "dot3 = dot1 + 10\n",
        "print(dot1.x, dot1.y) # 출력: 10 20\n",
        "print(dot3.x, dot3.y) # 출력: 20 30\n",
        "\n",
        "\n",
        "dot4 = dot1 + dot2\n",
        "print(dot4.x, dot4.y) # 출력: 30 50\n",
        "print(dot4.distance(dot1)) # 출력: 36.05551275463989"
      ],
      "metadata": {
        "colab": {
          "base_uri": "https://localhost:8080/"
        },
        "id": "61ZW-__EPB6F",
        "outputId": "14624acb-fe6d-4b0c-d866-4585331476e1"
      },
      "execution_count": 43,
      "outputs": [
        {
          "output_type": "stream",
          "name": "stdout",
          "text": [
            "10 20\n",
            "20 30\n",
            "30 50\n",
            "36.05551275463989\n"
          ]
        }
      ]
    },
    {
      "cell_type": "code",
      "source": [
        "class Point(object):\n",
        "\n",
        "    def __init__(self, x, y):\n",
        "        self.x = x\n",
        "        self.y = y\n",
        "\n",
        "    def mul(self, other):\n",
        "        return Point(self.x * other.x, self.y * other.y)\n",
        "\n",
        "dot1 = Point(10, 20)\n",
        "dot2 = Point(20, 30)\n",
        "\n",
        "# 이 줄은 잘못되었으며 제거하거나 유효한 작업으로 대체해야 합니다\n",
        "# Point(dot1, dot2)\n",
        "\n",
        "# mul 메서드 사용 예\n",
        "result = dot1.mul(dot2)\n",
        "print(result.x, result.y)  # 출력은 200 600 이어야 합니다"
      ],
      "metadata": {
        "colab": {
          "base_uri": "https://localhost:8080/"
        },
        "id": "pFDuI2lFVChI",
        "outputId": "3106255a-b57e-4a68-c9f6-81abd970d977"
      },
      "execution_count": 54,
      "outputs": [
        {
          "output_type": "stream",
          "name": "stdout",
          "text": [
            "200 600\n"
          ]
        }
      ]
    },
    {
      "cell_type": "markdown",
      "source": [
        "### 주요 매직 메서드\n",
        "\n",
        "[매직 메서드 종류](https://docs.python.org/3/reference/datamodel.html#emulating-numeric-types)\n",
        "\n",
        "1. 생성자와 소멸자\n",
        "    - \\_\\_init\\_\\_(self, ...): 객체가 생성될 때 호출되는 생성자 메서드\n",
        "    - \\_\\_del\\_\\_(self): 객체가 소멸될 때 호출되는 소멸자 메서드\n",
        "2. 문자열 표현\n",
        "    - \\_\\_str\\_\\_(self): str() 함수 출력 결과와 같습니다. 이는 print로 출력되는 결과와도 동일합니다. 이 출력은 \"공식적이지 않은\" 또는 \"좋게 보이는\" 문자열 표현을 반환합니다. 객체의 공식적인 표현은 repr입니다.\n",
        "    - \\_\\_repr\\_\\_(self): repr() 함수의 출력 결과와 같습니다. 객체의 \"공식적인\" 문자열 표현을 반환합니다.\n",
        "3. 산술 연산\n",
        "    - \\_\\_add\\_\\_(self, other): 덧셈 연산\n",
        "    - \\_\\_sub\\_\\_(self, other): 뺄셈 연산\n",
        "    - \\_\\_mul\\_\\_(self, other): 곱셈 연산\n",
        "    - \\_\\_truediv\\_\\_(self, other): 나눗셈 연산(/)\n",
        "4. 비교 연산\n",
        "    - \\_\\_eq\\_\\_(self, other): 동등 연산 (==)\n",
        "    - \\_\\_ne\\_\\_(self, other): 부등 연산 (!=)\n",
        "    - \\_\\_lt\\_\\_(self, other): \"작다\" 연산 (<)\n",
        "    - \\_\\_le\\_\\_(self, other): \"작거나 같다\" 연산 (<=)\n",
        "    - \\_\\_gt\\_\\_(self, other): \"크다\" 연산 (>)\n",
        "    - \\_\\_ge\\_\\_(self, other): \"크거나 같다\" 연산 (>=)\n",
        "5. 컨테이너 타입 연산\n",
        "    - \\_\\_len\\_\\_(self): len() 함수의 출력 결과와 같습니다.\n",
        "    - \\_\\_getitem\\_\\_(self, key): 인덱싱 연산 (obj[key])의 출력 결과와 같습니다.\n",
        "    - \\_\\_setitem\\_\\_(self, key, value): 항목 할당\n",
        "    - \\_\\_contains\\_\\_(self, value): in 연산자\n",
        "6. 호출 가능 객체\n",
        "    - \\_\\_call\\_\\_(self, ...): 객체를 함수처럼 호출할 때 사용됩니다."
      ],
      "metadata": {
        "id": "-4bxcmQnQluQ"
      }
    },
    {
      "cell_type": "markdown",
      "source": [
        "## 상속\n",
        "\n",
        "- 한 클래스의 특성(속성 및 메서드)을 다른 클래스가 가져오는 것을 의미\n",
        "    - 부모 클래스(또는 기본 클래스, 슈퍼 클래스): 특성이 상속되는 클래스.\n",
        "    - 자식 클래스(또는 파생 클래스, 서브 클래스): 부모 클래스의 특성을 상속받는 클래스.\n"
      ],
      "metadata": {
        "id": "7z6Z545m8h5_"
      }
    },
    {
      "cell_type": "code",
      "source": [
        "class Car(object):\n",
        "    maxSpeed = 300\n",
        "    maxPeople = 5\n",
        "\n",
        "\n",
        "    def move(self):\n",
        "        print('출발하였습니다.')\n",
        "\n",
        "\n",
        "    def stop(self):\n",
        "        print('멈췄습니다.')\n",
        "\n",
        "\n",
        "class HybridCar(Car):   # object 자리에 class를 넣어서 부모-자식 구조를 만듬\n",
        "    battery = 1000\n",
        "    batteryKM = 300\n",
        "\n",
        "\n",
        "class ElectricCar(HybridCar):   # HybridCar를 상속받음\n",
        "    battery = 2000\n",
        "    batteryKM = 600\n",
        "\n",
        "\n",
        "modelx = HybridCar()\n",
        "electricCarModely = ElectricCar()\n",
        "print(modelx.maxSpeed)\n",
        "print(electricCarModely.maxSpeed)\n",
        "print(electricCarModely.battery)\n",
        "electricCarModely.move()"
      ],
      "metadata": {
        "colab": {
          "base_uri": "https://localhost:8080/"
        },
        "id": "c9XBuduD6qvs",
        "outputId": "75db47c6-7291-4576-cde0-ec5b7b26d5a0"
      },
      "execution_count": 53,
      "outputs": [
        {
          "output_type": "stream",
          "name": "stdout",
          "text": [
            "300\n",
            "300\n",
            "2000\n",
            "출발하였습니다.\n"
          ]
        }
      ]
    },
    {
      "cell_type": "code",
      "source": [
        "class Character:    # 전체 부모 클래스\n",
        "    최대속력 = 100\n",
        "    최대레벨 = 50\n",
        "\n",
        "    def __init__(self, name, hp, attack, lv):\n",
        "        self.이름 = name\n",
        "        self.체력 = hp\n",
        "        self.공격력 = attack\n",
        "        self.레벨 = lv\n",
        "        self.속력 = 1\n",
        "\n",
        "    def move(self):\n",
        "        print(f'{self.이름}이(가) {self.속력}의 이동속도로 움직였습니다.')\n",
        "\n",
        "    def attack(self):\n",
        "        print(f'{self.이름}이(가) {self.공격력}의 데미지로 공격했습니다.')\n",
        "\n",
        "class Mob(Character):   # Character의 자식 클래스(상속)\n",
        "    def __init__(self, name, hp, attack, lv, droprate, dropitem):\n",
        "        super().__init__(name, hp, attack, lv)  # super(): 부모 클래스 상속\n",
        "        self.드랍률 = droprate\n",
        "        self.드랍아이템 = dropitem\n",
        "\n",
        "# 위 코드는 아래와 같은 기능입니다.\n",
        "# class Mob(Character):\n",
        "#     def __init__(self, name, hp, attack, lv, droprate, dropitem):\n",
        "#         self.이름 = name\n",
        "#         self.체력 = hp\n",
        "#         self.공격력 = attack\n",
        "#         self.레벨 = lv\n",
        "#         self.드랍률 = droprate\n",
        "#         self.드랍아이템 = dropitem\n",
        "#         self.속력 = 1\n",
        "\n",
        "class Hero(Character):\n",
        "    def __init__(self, name, hp, attack, lv, skills, items, missions):\n",
        "        super().__init__(name, hp, attack, lv)\n",
        "        self.스킬 = skills\n",
        "        self.아이템 = items\n",
        "        self.미션 = missions\n",
        "\n",
        "    def use_skill(self, skill):\n",
        "        if skill in self.스킬:\n",
        "            print(f'{self.이름}이(가) {skill} 스킬을 사용했습니다.')\n",
        "        else:\n",
        "            print(f'{skill} 스킬을 가지고 있지 않습니다.')\n",
        "\n",
        "# 클래스도 체이닝 가능"
      ],
      "metadata": {
        "id": "EolWKeV0VsV8"
      },
      "execution_count": 56,
      "outputs": []
    },
    {
      "cell_type": "markdown",
      "source": [
        "### 다중상속"
      ],
      "metadata": {
        "id": "ZovL4JAtXM8s"
      }
    },
    {
      "cell_type": "code",
      "source": [
        "class Parent1:\n",
        "    pass\n",
        "\n",
        "class Parent2:\n",
        "    pass\n",
        "\n",
        "class Child(Parent1, Parent2):  # 두 class에게 상속 받음, 호출 순서 중요\n",
        "    pass"
      ],
      "metadata": {
        "id": "hby5BIGuXMqd"
      },
      "execution_count": 57,
      "outputs": []
    },
    {
      "cell_type": "code",
      "source": [
        "class A:\n",
        "    def method(self):\n",
        "        print(\"A method\")\n",
        "\n",
        "\n",
        "class B(A):\n",
        "    def method(self):\n",
        "        print(\"B method\")\n",
        "\n",
        "\n",
        "class C(A):\n",
        "    def method(self):\n",
        "        print(\"C method\")\n",
        "\n",
        "\n",
        "class D(B, C):\n",
        "    pass\n",
        "\n",
        "\n",
        "obj = D()\n",
        "print(D.mro()) # 출력: [<class '__main__.D'>, <class '__main__.B'>, <class '__main__.C'>, <class '__main__.A'>, <class 'object'>]\n",
        "obj.method()  # 출력: B method\n",
        "\n",
        "# 자료가 들어온 순서에 따라서 출력, D랑 가까운 B method가 출력된다."
      ],
      "metadata": {
        "colab": {
          "base_uri": "https://localhost:8080/"
        },
        "id": "zBQIGNLwXe18",
        "outputId": "2e609a05-1e92-4d5f-cdb0-36f63ad4c6f0"
      },
      "execution_count": 62,
      "outputs": [
        {
          "output_type": "stream",
          "name": "stdout",
          "text": [
            "[<class '__main__.D'>, <class '__main__.B'>, <class '__main__.C'>, <class '__main__.A'>, <class 'object'>]\n",
            "B method\n"
          ]
        }
      ]
    },
    {
      "cell_type": "code",
      "source": [
        "# __(언더바 두개)는 비공개속성으로 접근할 수 없음\n",
        "\n",
        "# password 에서 사용, 자기 자신만 볼 수 있도록 함"
      ],
      "metadata": {
        "id": "gDwZOpEnYBrD"
      },
      "execution_count": 64,
      "outputs": []
    },
    {
      "cell_type": "markdown",
      "source": [
        "## 클래스 실습 2"
      ],
      "metadata": {
        "id": "fX5nxsW0ndrn"
      }
    },
    {
      "cell_type": "markdown",
      "source": [
        "1. 주차관리 시스템"
      ],
      "metadata": {
        "id": "NJdYuiiVnYGh"
      }
    },
    {
      "cell_type": "code",
      "source": [
        "class ParkingManager:\n",
        "    # 주차정보 초기화 / 정보를 출력하는\n",
        "    def __init__(self, capacity):   # 얼마나 주차가 가능한지 판단!\n",
        "        self.capacity = capacity\n",
        "        self.count = 0  # 등록된 차량 대수\n",
        "        print(f\"총 {self.capacity}대의 주차가 가능합니다.\")\n",
        "\n",
        "    # 신규 차량 등록 메서드\n",
        "    def register(self):\n",
        "        self.count += 1\n",
        "        if self.count >= self.capacity:\n",
        "            print(\"모두 주차가 되었습니다.\")\n",
        "        else:\n",
        "            print(f\"차량이 등록되었습니다. 현재 등록된 차량은 {self.count}대이고\"\n",
        "                 f\" 등록 가능한 차량 대수는 {self.capacity - self.count}입니다.\")\n",
        "\n",
        "manager = ParkingManager(5)\n",
        "manager.register()\n",
        "manager.register()\n",
        "manager.register()\n",
        "manager.register()\n",
        "manager.register()\n",
        "manager.register()"
      ],
      "metadata": {
        "colab": {
          "base_uri": "https://localhost:8080/"
        },
        "id": "_yDvcixyf_4x",
        "outputId": "9717f930-454b-4628-995b-5b95db77ed7f"
      },
      "execution_count": 75,
      "outputs": [
        {
          "output_type": "stream",
          "name": "stdout",
          "text": [
            "총 5대의 주차가 가능합니다.\n",
            "차량이 등록되었습니다. 현재 등록된 차량은 1대이고 등록 가능한 차량 대수는 4입니다.\n",
            "차량이 등록되었습니다. 현재 등록된 차량은 2대이고 등록 가능한 차량 대수는 3입니다.\n",
            "차량이 등록되었습니다. 현재 등록된 차량은 3대이고 등록 가능한 차량 대수는 2입니다.\n",
            "차량이 등록되었습니다. 현재 등록된 차량은 4대이고 등록 가능한 차량 대수는 1입니다.\n",
            "모두 주차가 되었습니다.\n",
            "모두 주차가 되었습니다.\n"
          ]
        }
      ]
    },
    {
      "cell_type": "markdown",
      "source": [
        "2. 부동산 프로그램 클래스로 만들기 - 공인중개사용\n",
        "\n",
        "- self 생성자로 인스턴스 변수를 정의합니다.\n",
        "- 매물정보를 표시하는 show_detail에서는 인스턴스 변수를 출력하여 부동산 정보를 표시하게 합니다.\n",
        "- 네이버 부동산/생각해서 자신이 관심있는 매물 3가지의 정보를 받아 몇가지 매물이 있는 지 확인하고, 각 부동산 정보를 출력합니다."
      ],
      "metadata": {
        "id": "Jvv9LxzOnHXY"
      }
    },
    {
      "cell_type": "code",
      "source": [
        "class RealEstate:\n",
        "    def __init__(self, address, price, rooms):\n",
        "        self.address = address\n",
        "        self.price = price\n",
        "        self.rooms = rooms\n",
        "\n",
        "    def show_detail(self):\n",
        "        print(\"주소:\", self.address)\n",
        "        print(\"가격:\", self.price)\n",
        "        print(\"방수:\", self.rooms)\n",
        "\n",
        "# 부동산 정보 입력\n",
        "property1 = RealEstate(\"서울시 강남구 A동 101호\", \"10억원\", 3)\n",
        "property2 = RealEstate(\"서울시 강북구 B동 202호\", \"5억원\", 2)\n",
        "property3 = RealEstate(\"서울시 송파구 C동 303호\", \"7억원\", 4)\n",
        "\n",
        "# 부동산 정보 출력\n",
        "property1.show_detail()\n",
        "print(\"---------------------\")\n",
        "property2.show_detail()\n",
        "print(\"---------------------\")\n",
        "property3.show_detail()"
      ],
      "metadata": {
        "colab": {
          "base_uri": "https://localhost:8080/"
        },
        "id": "qBnZYO-7lX6S",
        "outputId": "3f9373c7-87e3-4b3c-dc1b-8a1344838e81"
      },
      "execution_count": 76,
      "outputs": [
        {
          "output_type": "stream",
          "name": "stdout",
          "text": [
            "주소: 서울시 강남구 A동 101호\n",
            "가격: 10억원\n",
            "방수: 3\n",
            "---------------------\n",
            "주소: 서울시 강북구 B동 202호\n",
            "가격: 5억원\n",
            "방수: 2\n",
            "---------------------\n",
            "주소: 서울시 송파구 C동 303호\n",
            "가격: 7억원\n",
            "방수: 4\n"
          ]
        }
      ]
    }
  ]
}